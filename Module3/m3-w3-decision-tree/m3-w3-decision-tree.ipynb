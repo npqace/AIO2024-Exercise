{
 "cells": [
  {
   "cell_type": "markdown",
   "metadata": {},
   "source": [
    "# I. Decision Tree for Classification"
   ]
  },
  {
   "cell_type": "code",
   "execution_count": 1,
   "metadata": {},
   "outputs": [],
   "source": [
    "# cau 7: Dòng lệnh nào sau đây để tải về bộ dữ liệu Iris từ thư viện ‘sklearn’?\n",
    "\n",
    "from sklearn import datasets\n",
    "iris_X, iris_y = datasets.load_iris(return_X_y=True)\n"
   ]
  },
  {
   "cell_type": "code",
   "execution_count": 7,
   "metadata": {},
   "outputs": [
    {
     "data": {
      "text/plain": [
       "1.0"
      ]
     },
     "execution_count": 7,
     "metadata": {},
     "output_type": "execute_result"
    }
   ],
   "source": [
    "# câu 8: Sắp xếp các đoạn code phân loại trên bộ dữ liệu Iris dựa vào Decision Tree:\n",
    "from sklearn import datasets\n",
    "from sklearn.model_selection import train_test_split\n",
    "from sklearn.metrics import accuracy_score\n",
    "from sklearn.tree import DecisionTreeClassifier\n",
    "\n",
    "# Load the dataset\n",
    "iris_X, iris_y = datasets.load_iris(return_X_y=True)\n",
    "# Split train:test = 8:2\n",
    "X_train, X_test, y_train, y_test = train_test_split(\n",
    "    iris_X, iris_y,\n",
    "    test_size=0.2,\n",
    "    random_state=42)\n",
    "\n",
    "# Define model\n",
    "dt_classifier = DecisionTreeClassifier()\n",
    "\n",
    "# Train\n",
    "dt_classifier.fit(X_train, y_train)\n",
    "\n",
    "# Predict and evaluate\n",
    "y_pred = dt_classifier.predict(X_test)\n",
    "accuracy_score(y_test, y_pred)\n"
   ]
  },
  {
   "cell_type": "markdown",
   "metadata": {},
   "source": [
    "# II. Decision Tree for Regression"
   ]
  },
  {
   "cell_type": "code",
   "execution_count": 9,
   "metadata": {},
   "outputs": [
    {
     "name": "stderr",
     "output_type": "stream",
     "text": [
      "e:\\anaconda3\\envs\\py39\\lib\\site-packages\\sklearn\\datasets\\_openml.py:320: UserWarning: Multiple active versions of the dataset matching the name machine_cpu exist. Versions may be fundamentally different, returning version 1. Available versions:\n",
      "- version 1, status: active\n",
      "  url: https://www.openml.org/search?type=data&id=230\n",
      "- version 2, status: active\n",
      "  url: https://www.openml.org/search?type=data&id=733\n",
      "\n",
      "  warn(warning_msg)\n"
     ]
    },
    {
     "data": {
      "text/plain": [
       "9380.175264550266"
      ]
     },
     "execution_count": 9,
     "metadata": {},
     "output_type": "execute_result"
    }
   ],
   "source": [
    "# câu 11: Sắp xếp các đoạn code phân loại trên bộ dữ liệu CPU Machine dựa vào Decision Tree Regressor:\n",
    "from sklearn.datasets import fetch_openml\n",
    "from sklearn.model_selection import train_test_split\n",
    "from sklearn.metrics import mean_squared_error\n",
    "from sklearn.tree import DecisionTreeRegressor\n",
    "\n",
    "# Load the dataset\n",
    "machine_cpu = fetch_openml(name='machine_cpu')\n",
    "machine_data = machine_cpu.data\n",
    "machine_labels = machine_cpu.target\n",
    "# Split train:test = 8:2\n",
    "X_train, X_test, y_train, y_test = train_test_split(\n",
    "    machine_data, machine_labels,\n",
    "    test_size=0.2,\n",
    "    random_state=42)\n",
    "\n",
    "# Define model\n",
    "tree_reg = DecisionTreeRegressor()\n",
    "\n",
    "# Train\n",
    "tree_reg.fit(X_train, y_train)\n",
    "\n",
    "# Predict and evaluate\n",
    "y_pred = tree_reg.predict(X_test)\n",
    "mean_squared_error(y_test, y_pred)\n"
   ]
  }
 ],
 "metadata": {
  "kernelspec": {
   "display_name": "py39",
   "language": "python",
   "name": "python3"
  },
  "language_info": {
   "codemirror_mode": {
    "name": "ipython",
    "version": 3
   },
   "file_extension": ".py",
   "mimetype": "text/x-python",
   "name": "python",
   "nbconvert_exporter": "python",
   "pygments_lexer": "ipython3",
   "version": "3.9.19"
  }
 },
 "nbformat": 4,
 "nbformat_minor": 2
}
