{
 "cells": [
  {
   "cell_type": "markdown",
   "metadata": {},
   "source": [
    "# 1. Gradient Descent"
   ]
  },
  {
   "cell_type": "code",
   "execution_count": 1,
   "metadata": {},
   "outputs": [],
   "source": [
    "import numpy as np"
   ]
  },
  {
   "cell_type": "code",
   "execution_count": 6,
   "metadata": {},
   "outputs": [],
   "source": [
    "def df_w(W):\n",
    "    \"\"\"\n",
    "    Thực hiện tính gradient của dw1 và dw2\n",
    "    Arguments:\n",
    "    W -- np.array [w1, w2]\n",
    "    Returns:\n",
    "    dW -- np.array [dw1, dw2], array chứa giá trị đạo hàm theo w1 và w2\n",
    "    \"\"\"\n",
    "    dW = np.array((0.2*W[0], 4*W[1]))\n",
    "    return dW"
   ]
  },
  {
   "cell_type": "code",
   "execution_count": 7,
   "metadata": {},
   "outputs": [],
   "source": [
    "def sgd(W, dW, lr):\n",
    "    \"\"\"\n",
    "    Thực hiện thuật tóa Gradient Descent để update w1 và w2\n",
    "    Arguments:\n",
    "    W -- np.array: [w1, w2]\n",
    "    dW -- np.array: [dw1, dw2], array chứa giá trị đạo hàm theo w1 và w2\n",
    "    lr -- float: learning rate\n",
    "    Returns:\n",
    "    W -- np.array: [w1, w2] w1 và w2 sau khi đã update\n",
    "    \"\"\"\n",
    "    W = W - lr*dW\n",
    "    return W"
   ]
  },
  {
   "cell_type": "code",
   "execution_count": 8,
   "metadata": {},
   "outputs": [],
   "source": [
    "def train_p1(optimizer, lr, epochs):\n",
    "    \"\"\"\n",
    "    Thực hiện tìm điểm minimum của function (1) dựa vào thuật toán\n",
    "    được truyền vào từ optimizer\n",
    "    Arguments:\n",
    "    optimize : function thực hiện thuật toán optimization cụ thể\n",
    "    lr -- float: learning rate\n",
    "    epoch -- int: số lượng lần (epoch) lặp để tìm điểm minimum\n",
    "    Returns:\n",
    "    results -- list: list các cặp điểm [w1, w2] sau mỗi epoch (mỗi lần cập nhật)\n",
    "    \"\"\"\n",
    "\n",
    "    # initial point\n",
    "    W = np.array([-5, -2], dtype=np.float32)\n",
    "    # list of results\n",
    "    results = [W]\n",
    "    for e in range(epochs):\n",
    "        dW = df_w(W)\n",
    "        W = optimizer(W, dW, lr)\n",
    "        results.append(W)\n",
    "    return results"
   ]
  },
  {
   "cell_type": "code",
   "execution_count": 9,
   "metadata": {},
   "outputs": [
    {
     "data": {
      "text/plain": [
       "[array([-5., -2.], dtype=float32),\n",
       " array([-4.6,  1.2], dtype=float32),\n",
       " array([-4.232, -0.72 ], dtype=float32),\n",
       " array([-3.8934398 ,  0.43200004], dtype=float32),\n",
       " array([-3.5819645 , -0.25920004], dtype=float32),\n",
       " array([-3.2954073 ,  0.15552002], dtype=float32),\n",
       " array([-3.0317748 , -0.09331201], dtype=float32),\n",
       " array([-2.7892327 ,  0.05598721], dtype=float32),\n",
       " array([-2.5660942 , -0.03359233], dtype=float32),\n",
       " array([-2.3608067,  0.0201554], dtype=float32),\n",
       " array([-2.1719422 , -0.01209324], dtype=float32),\n",
       " array([-1.9981868 ,  0.00725594], dtype=float32),\n",
       " array([-1.8383319 , -0.00435357], dtype=float32),\n",
       " array([-1.6912653 ,  0.00261214], dtype=float32),\n",
       " array([-1.5559641 , -0.00156728], dtype=float32),\n",
       " array([-1.4314870e+00,  9.4037014e-04], dtype=float32),\n",
       " array([-1.316968e+00, -5.642221e-04], dtype=float32),\n",
       " array([-1.2116106e+00,  3.3853325e-04], dtype=float32),\n",
       " array([-1.1146817e+00, -2.0311994e-04], dtype=float32),\n",
       " array([-1.0255072e+00,  1.2187197e-04], dtype=float32),\n",
       " array([-9.4346666e-01, -7.3123185e-05], dtype=float32),\n",
       " array([-8.6798930e-01,  4.3873915e-05], dtype=float32),\n",
       " array([-7.985501e-01, -2.632435e-05], dtype=float32),\n",
       " array([-7.3466611e-01,  1.5794609e-05], dtype=float32),\n",
       " array([-6.7589283e-01, -9.4767656e-06], dtype=float32),\n",
       " array([-6.218214e-01,  5.686060e-06], dtype=float32),\n",
       " array([-5.7207566e-01, -3.4116365e-06], dtype=float32),\n",
       " array([-5.263096e-01,  2.046982e-06], dtype=float32),\n",
       " array([-4.8420483e-01, -1.2281891e-06], dtype=float32),\n",
       " array([-4.4546843e-01,  7.3691353e-07], dtype=float32),\n",
       " array([-4.0983096e-01, -4.4214812e-07], dtype=float32)]"
      ]
     },
     "execution_count": 9,
     "metadata": {},
     "output_type": "execute_result"
    }
   ],
   "source": [
    "train_p1(sgd, lr=0.4, epochs=30)"
   ]
  },
  {
   "cell_type": "markdown",
   "metadata": {},
   "source": [
    "# 2. GD + Momentum"
   ]
  },
  {
   "cell_type": "code",
   "execution_count": 14,
   "metadata": {},
   "outputs": [],
   "source": [
    "def df_w(w):\n",
    "    \"\"\"\n",
    "    Thực hiện tính gradient của dw1 và dw2\n",
    "    Arguments:\n",
    "    W -- np.array [w1, w2]\n",
    "    Returns:\n",
    "    dW -- np.array [dw1, dw2], array chứa giá trị đạo hàm theo w1 và w2\n",
    "    \"\"\"\n",
    "    dW = np.array((0.2*w[0], 4*w[1]))\n",
    "\n",
    "    return dW"
   ]
  },
  {
   "cell_type": "code",
   "execution_count": 15,
   "metadata": {},
   "outputs": [],
   "source": [
    "def sgd_momentum(W, dW, lr, V, beta):\n",
    "    \"\"\"\n",
    "    Thực hiện thuật tóan Gradient Descent + Momentum để update w1 và w2\n",
    "    Arguments:\n",
    "    W -- np.array: [w1, w2]\n",
    "    dW -- np.array: [dw1, dw2], array chứa giá trị đạo hàm theo w1 và w2\n",
    "    lr -- float: learning rate\n",
    "    V -- np.array: [v1, v2] Exponentially weighted averages gradients\n",
    "    beta -- float: hệ số long-range average\n",
    "    Returns:\n",
    "    W -- np.array: [w1, w2] w1 và w2 sau khi đã update\n",
    "    V -- np.array: [v1, v2] Exponentially weighted averages gradients sau khi đã cập nhật\n",
    "    \"\"\"\n",
    "    V = beta*V + (1-beta)*dW\n",
    "    W = W - lr*V\n",
    "    return W, V"
   ]
  },
  {
   "cell_type": "code",
   "execution_count": 16,
   "metadata": {},
   "outputs": [],
   "source": [
    "def train_p1(optimizer, lr, epochs):\n",
    "    \"\"\"\n",
    "    Thực hiện tìm điểm minimum của function (1) dựa vào thuật toán\n",
    "    được truyền vào từ optimizer\n",
    "    Arguments:\n",
    "    optimize : function thực hiện thuật toán optimization cụ thể\n",
    "    lr -- float: learning rate\n",
    "    epochs -- int: số lượng lần (epoch) lặp để tìm điểm minimum\n",
    "    Returns:\n",
    "    results -- list: list các cặp điểm [w1, w2] sau mỗi epoch (mỗi lần cập nhật)\n",
    "    \"\"\"\n",
    "    # initial\n",
    "    W = np.array([-5, -2], dtype=np.float32)\n",
    "    V = np.array([0, 0], dtype=np.float32)\n",
    "    results = [W]\n",
    "    for e in range(epochs):\n",
    "        dW = df_w(W)\n",
    "        W, V = optimizer(W, dW, lr, V, beta=0.5)\n",
    "        results.append(W)\n",
    "    return results"
   ]
  },
  {
   "cell_type": "code",
   "execution_count": 17,
   "metadata": {},
   "outputs": [
    {
     "data": {
      "text/plain": [
       "[array([-5., -2.], dtype=float32),\n",
       " array([-4.7      ,  0.4000001], dtype=float32),\n",
       " array([-4.2679996,  1.12     ], dtype=float32),\n",
       " array([-3.7959197 ,  0.13599992], dtype=float32),\n",
       " array([-3.3321245, -0.5192   ], dtype=float32),\n",
       " array([-2.9002993 , -0.22375995], dtype=float32),\n",
       " array([-2.5103688 ,  0.19247207], dtype=float32),\n",
       " array([-2.1647813 ,  0.16962159], dtype=float32),\n",
       " array([-1.8621007 , -0.04534957], dtype=float32),\n",
       " array([-1.5990343 , -0.09841566], dtype=float32),\n",
       " array([-1.371559  , -0.00684991], dtype=float32),\n",
       " array([-1.1755278 ,  0.04715286], dtype=float32),\n",
       " array([-1.0069805 ,  0.01757081], dtype=float32),\n",
       " array([-0.86228806, -0.01830519], dtype=float32),\n",
       " array([-0.73820454, -0.01427696], dtype=float32),\n",
       " array([-0.6318705,  0.0048695], dtype=float32),\n",
       " array([-0.5407913 ,  0.00859933], dtype=float32),\n",
       " array([-4.6280417e-01,  1.4504697e-04], dtype=float32),\n",
       " array([-0.39604235, -0.00425615], dtype=float32),\n",
       " array([-0.3388989 , -0.00134937], dtype=float32),\n",
       " array([-0.28999323,  0.00172327], dtype=float32),\n",
       " array([-0.24814081,  0.00119166], dtype=float32),\n",
       " array([-0.21232615, -0.00050413], dtype=float32),\n",
       " array([-0.18167925, -0.00074707], dtype=float32),\n",
       " array([-1.5545504e-01,  2.7945207e-05], dtype=float32),\n",
       " array([-0.13301563,  0.00038192], dtype=float32),\n",
       " array([-1.13814995e-01,  1.00603269e-04], dtype=float32),\n",
       " array([-0.09738577, -0.00016078], dtype=float32),\n",
       " array([-8.3328016e-02, -9.8535267e-05], dtype=float32),\n",
       " array([-7.1299456e-02,  5.0828821e-05], dtype=float32),\n",
       " array([-6.100721e-02,  6.451628e-05], dtype=float32)]"
      ]
     },
     "execution_count": 17,
     "metadata": {},
     "output_type": "execute_result"
    }
   ],
   "source": [
    "train_p1(sgd_momentum, lr=0.6, epochs=30)"
   ]
  },
  {
   "cell_type": "markdown",
   "metadata": {},
   "source": [
    "# 3. RMSProp"
   ]
  },
  {
   "cell_type": "code",
   "execution_count": 18,
   "metadata": {},
   "outputs": [],
   "source": [
    "def df_w(w):\n",
    "    \"\"\"\n",
    "    Thực hiện tính gradient của dw1 và dw2\n",
    "    Arguments:\n",
    "    W -- np.array [w1, w2]\n",
    "    Returns:\n",
    "    dW -- np.array [dw1, dw2], array chứa giá trị đạo hàm theo w1 và w2\n",
    "    \"\"\"\n",
    "    dW = np.array((0.2*w[0], 4*w[1]))\n",
    "    return dW"
   ]
  },
  {
   "cell_type": "code",
   "execution_count": 19,
   "metadata": {},
   "outputs": [],
   "source": [
    "def RMSProp(W, dW, lr, S, gamma):\n",
    "    \"\"\"\n",
    "    Thực hiện thuật tóan RMSProp để update w1 và w2\n",
    "    Arguments:\n",
    "    W -- np.array: [w1, w2]\n",
    "    dW -- np.array: [dw1, dw2], array chứa giá trị đạo hàm theo w1 và w2\n",
    "    lr -- float: learning rate\n",
    "    S -- np.array: [s1, s2] Exponentially weighted averages bình phương gradients\n",
    "    gamma -- float: hệ số long-range average\n",
    "    Returns:\n",
    "    W -- np.array: [w1, w2] w1 và w2 sau khi đã update\n",
    "    S -- np.array: [s1, s2] Exponentially weighted averages bình phương gradients sau khi đã cập nhật\n",
    "    \"\"\"\n",
    "    epsilon = 1e-6\n",
    "    S = gamma*S + (1-gamma)*dW**2\n",
    "    adapt_lr = lr/np.sqrt(S + epsilon)\n",
    "    W = W - adapt_lr*dW\n",
    "    return W, S"
   ]
  },
  {
   "cell_type": "code",
   "execution_count": 20,
   "metadata": {},
   "outputs": [],
   "source": [
    "def train_p1(optimizer, lr, epochs):\n",
    "    \"\"\"\n",
    "    Thực hiện tìm điểm minimum của function (1) dựa vào thuật toán\n",
    "    được truyền vào từ optimizer\n",
    "    Arguments:\n",
    "    optimize : function thực hiện thuật toán optimization cụ thể\n",
    "    lr -- float: learning rate\n",
    "    epochs -- int: số lượng lần (epoch) lặp để tìm điểm minimum\n",
    "    Returns:\n",
    "    results -- list: list các cặp điểm [w1, w2] sau mỗi epoch (mỗi lần cập nhật)\n",
    "    \"\"\"\n",
    "    # initial\n",
    "    W = np.array([-5, -2], dtype=np.float32)\n",
    "    S = np.array([0, 0], dtype=np.float32)\n",
    "    results = [W]\n",
    "    for e in range(epochs):\n",
    "        dW = df_w(W)\n",
    "        W, S = optimizer(W, dW, lr, S, gamma=0.9)\n",
    "        results.append(W)\n",
    "    return results"
   ]
  },
  {
   "cell_type": "code",
   "execution_count": 21,
   "metadata": {},
   "outputs": [
    {
     "data": {
      "text/plain": [
       "[array([-5., -2.], dtype=float32),\n",
       " array([-4.0513215, -1.0513167], dtype=float32),\n",
       " array([-3.4351976 , -0.59152335], dtype=float32),\n",
       " array([-2.958937  , -0.32943937], dtype=float32),\n",
       " array([-2.5654628 , -0.17756478], dtype=float32),\n",
       " array([-2.2292054 , -0.09163253], dtype=float32),\n",
       " array([-1.9362674 , -0.04494497], dtype=float32),\n",
       " array([-1.6781766 , -0.02081422], dtype=float32),\n",
       " array([-1.4493496 , -0.00903558], dtype=float32),\n",
       " array([-1.2458818, -0.0036459], dtype=float32),\n",
       " array([-1.0649028 , -0.00135351], dtype=float32),\n",
       " array([-9.0420204e-01, -4.5644364e-04], dtype=float32),\n",
       " array([-7.6199627e-01, -1.3756263e-04], dtype=float32),\n",
       " array([-6.3677830e-01, -3.6259997e-05], dtype=float32),\n",
       " array([-5.272150e-01, -8.113342e-06], dtype=float32),\n",
       " array([-4.3207830e-01, -1.4747266e-06], dtype=float32),\n",
       " array([-3.5019833e-01, -2.0278264e-07], dtype=float32),\n",
       " array([-2.8043449e-01, -1.8422952e-08], dtype=float32),\n",
       " array([-2.2165969e-01, -7.6773077e-10], dtype=float32),\n",
       " array([-1.7275539e-01,  7.8045903e-12], dtype=float32),\n",
       " array([-1.3261501e-01, -5.0580200e-13], dtype=float32),\n",
       " array([-1.0015368e-01,  6.1913419e-14], dtype=float32),\n",
       " array([-7.43216872e-02, -1.13376105e-14], dtype=float32),\n",
       " array([-5.4120056e-02,  2.8017300e-15], dtype=float32),\n",
       " array([-3.8615860e-02, -8.8136235e-16], dtype=float32),\n",
       " array([-2.6955761e-02,  3.3992978e-16], dtype=float32),\n",
       " array([-1.8376527e-02, -1.5658595e-16], dtype=float32),\n",
       " array([-1.2211582e-02,  8.4501886e-17], dtype=float32),\n",
       " array([-7.8932978e-03, -5.2639207e-17], dtype=float32),\n",
       " array([-4.9510882e-03,  3.7411937e-17], dtype=float32),\n",
       " array([-3.005761e-03, -3.005155e-17], dtype=float32)]"
      ]
     },
     "execution_count": 21,
     "metadata": {},
     "output_type": "execute_result"
    }
   ],
   "source": [
    "train_p1(RMSProp, lr=0.3, epochs=30)"
   ]
  },
  {
   "cell_type": "markdown",
   "metadata": {},
   "source": [
    "# 4. Adam"
   ]
  },
  {
   "cell_type": "code",
   "execution_count": 22,
   "metadata": {},
   "outputs": [],
   "source": [
    "def df_w(w):\n",
    "    \"\"\"\n",
    "    Thực hiện tính gradient của dw1 và dw2\n",
    "    Arguments:\n",
    "    W -- np.array [w1, w2]\n",
    "    Returns:\n",
    "    dW -- np.array [dw1, dw2], array chứa giá trị đạo hàm theo w1 và w2\n",
    "    \"\"\"\n",
    "    dW = np.array((0.2*w[0], 4*w[1]))\n",
    "\n",
    "    return dW"
   ]
  },
  {
   "cell_type": "code",
   "execution_count": 23,
   "metadata": {},
   "outputs": [],
   "source": [
    "def Adam(W, dW, lr, V, S, beta1, beta2, t):\n",
    "    \"\"\"\n",
    "    Thực hiện thuật tóan Adam để update w1 và w2\n",
    "    Arguments:\n",
    "    W -- np.array: [w1, w2]\n",
    "    dW -- np.array: [dw1, dw2], array chứa giá trị đạo hàm theo w1 và w2\n",
    "    lr -- float: learning rate\n",
    "    V -- np.array: [v1, v2] Exponentially weighted averages gradients\n",
    "    S -- np.array: [s1, s2] Exponentially weighted averages bình phương gradients\n",
    "    beta1 -- float: hệ số long-range average cho V\n",
    "    beta2 -- float: hệ số long-range average cho S\n",
    "    t -- int: lần thứ t update (bắt đầu bằng 1)\n",
    "    Returns:\n",
    "    W -- np.array: [w1, w2] w1 và w2 sau khi đã update\n",
    "    V -- np.array: [v1, v2] Exponentially weighted averages gradients sau khi đã cập nhật\n",
    "    S -- np.array: [s1, s2] Exponentially weighted averages bình phương gradients sau khi đã cập nhật\n",
    "    \"\"\"\n",
    "    epsilon = 1e-6\n",
    "    V = beta1*V + (1-beta1)*dW\n",
    "    S = beta2*S + (1-beta2)*dW**2\n",
    "    V_coor = V/(1-beta1**t)\n",
    "    S_coor = S/(1-beta2**t)\n",
    "    W = W - lr*V_coor/(np.sqrt(S_coor) + epsilon)\n",
    "    return W, V, S"
   ]
  },
  {
   "cell_type": "code",
   "execution_count": 24,
   "metadata": {},
   "outputs": [],
   "source": [
    "def train_p1(optimizer, lr, epochs):\n",
    "    \"\"\"\n",
    "    Thực hiện tìm điểm minimum của function (1) dựa vào thuật toán\n",
    "    được truyền vào từ optimizer\n",
    "    Arguments:\n",
    "    optimize : function thực hiện thuật toán optimization cụ thể\n",
    "    lr -- float: learning rate\n",
    "    epochs -- int: số lượng lần (epoch) lặp để tìm điểm minimum\n",
    "    Returns:\n",
    "    results -- list: list các cặp điểm [w1, w2] sau mỗi epoch (mỗi lần cập nhật)\n",
    "    \"\"\"\n",
    "    # initial\n",
    "    W = np.array([-5, -2], dtype=np.float32)\n",
    "    V = np.array([0, 0], dtype=np.float32)\n",
    "    S = np.array([0, 0], dtype=np.float32)\n",
    "    results = [W]\n",
    "    for t, e in enumerate(range(epochs)):\n",
    "        dW = df_w(W)\n",
    "        W, V, S = optimizer(W, dW, lr, V, S, beta1=0.9, beta2=0.999, t=t+1)\n",
    "        results.append(W)\n",
    "    return results"
   ]
  },
  {
   "cell_type": "code",
   "execution_count": 25,
   "metadata": {},
   "outputs": [
    {
     "data": {
      "text/plain": [
       "[array([-5., -2.], dtype=float32),\n",
       " array([-4.8      , -1.8000001], dtype=float32),\n",
       " array([-4.600255 , -1.6008246], dtype=float32),\n",
       " array([-4.4009485, -1.4031727], dtype=float32),\n",
       " array([-4.2022777, -1.2078784], dtype=float32),\n",
       " array([-4.0044503, -1.0159276], dtype=float32),\n",
       " array([-3.8076863, -0.8284732], dtype=float32),\n",
       " array([-3.6122174 , -0.64684176], dtype=float32),\n",
       " array([-3.4182863 , -0.47252786], dtype=float32),\n",
       " array([-3.2261477 , -0.30716956], dtype=float32),\n",
       " array([-3.0360663 , -0.15249878], dtype=float32),\n",
       " array([-2.8483174, -0.0102635], dtype=float32),\n",
       " array([-2.6631858 ,  0.11787525], dtype=float32),\n",
       " array([-2.4809644 ,  0.23046133], dtype=float32),\n",
       " array([-2.3019533,  0.3263584], dtype=float32),\n",
       " array([-2.126458  ,  0.40484163], dtype=float32),\n",
       " array([-1.9547879,  0.4656493], dtype=float32),\n",
       " array([-1.7872543,  0.5089877], dtype=float32),\n",
       " array([-1.6241679 ,  0.53549415], dtype=float32),\n",
       " array([-1.4658363,  0.5461712], dtype=float32),\n",
       " array([-1.3125613,  0.5423079], dtype=float32),\n",
       " array([-1.1646359,  0.5254019], dtype=float32),\n",
       " array([-1.022341  ,  0.49709046], dtype=float32),\n",
       " array([-0.88594234,  0.459095  ], dtype=float32),\n",
       " array([-0.7556869 ,  0.41317773], dtype=float32),\n",
       " array([-0.63179994,  0.36110884], dtype=float32),\n",
       " array([-0.51448166,  0.30464044], dtype=float32),\n",
       " array([-0.40390426,  0.24548408], dtype=float32),\n",
       " array([-0.30020922,  0.1852892 ], dtype=float32),\n",
       " array([-0.20350507,  0.1256208 ], dtype=float32),\n",
       " array([-0.11386538,  0.06793538], dtype=float32)]"
      ]
     },
     "execution_count": 25,
     "metadata": {},
     "output_type": "execute_result"
    }
   ],
   "source": [
    "train_p1(Adam, lr=0.2, epochs=30)"
   ]
  },
  {
   "cell_type": "code",
   "execution_count": null,
   "metadata": {},
   "outputs": [],
   "source": []
  }
 ],
 "metadata": {
  "kernelspec": {
   "display_name": "aio2024",
   "language": "python",
   "name": "python3"
  },
  "language_info": {
   "codemirror_mode": {
    "name": "ipython",
    "version": 3
   },
   "file_extension": ".py",
   "mimetype": "text/x-python",
   "name": "python",
   "nbconvert_exporter": "python",
   "pygments_lexer": "ipython3",
   "version": "3.11.11"
  }
 },
 "nbformat": 4,
 "nbformat_minor": 2
}
