{
  "cells": [
    {
      "cell_type": "markdown",
      "metadata": {
        "id": "DMuap-I77T8L"
      },
      "source": [
        "# Question 1"
      ]
    },
    {
      "cell_type": "code",
      "execution_count": 1,
      "metadata": {
        "id": "rdQkUFLE7Sks"
      },
      "outputs": [],
      "source": [
        "import torch\n",
        "import torch.nn as nn\n",
        "import numpy as np"
      ]
    },
    {
      "cell_type": "code",
      "execution_count": 2,
      "metadata": {
        "colab": {
          "base_uri": "https://localhost:8080/"
        },
        "id": "-PqIzXE07a0T",
        "outputId": "100a3e9d-7fec-48d0-bf52-d2fd9ca92d83"
      },
      "outputs": [
        {
          "name": "stdout",
          "output_type": "stream",
          "text": [
            "tensor([[[[-1.3867,  1.3867],\n",
            "          [-0.2773,  0.2773]]]])\n"
          ]
        }
      ],
      "source": [
        "data = np.array([[[1, 6], [3, 4]]])\n",
        "data = torch.tensor(data, dtype=torch.float32)\n",
        "\n",
        "bnorm = nn.BatchNorm2d(1)\n",
        "data = data.unsqueeze(0)\n",
        "with torch.no_grad():\n",
        "  output = bnorm(data)\n",
        "  print(output)"
      ]
    },
    {
      "cell_type": "markdown",
      "metadata": {
        "id": "QSas7P5m8m_R"
      },
      "source": [
        "# Question 2"
      ]
    },
    {
      "cell_type": "code",
      "execution_count": 3,
      "metadata": {
        "id": "gCH0joVD8hM_"
      },
      "outputs": [],
      "source": [
        "import torch"
      ]
    },
    {
      "cell_type": "code",
      "execution_count": 4,
      "metadata": {
        "colab": {
          "base_uri": "https://localhost:8080/"
        },
        "id": "I5Ku8cuI8pAy",
        "outputId": "02ac23c8-dfda-46d5-a5c7-0ede6694ac27"
      },
      "outputs": [
        {
          "name": "stdout",
          "output_type": "stream",
          "text": [
            "tensor([[[1, 2],\n",
            "         [3, 4]],\n",
            "\n",
            "        [[1, 2],\n",
            "         [3, 4]]])\n"
          ]
        }
      ],
      "source": [
        "a = torch.tensor([[1, 2], [3, 4]])\n",
        "b = torch.tensor([[1, 2], [3, 4]])\n",
        "\n",
        "a = a.reshape(1, 2, 2)\n",
        "b = b.reshape(1, 2, 2)\n",
        "\n",
        "c = torch.cat((a, b))\n",
        "print(c)"
      ]
    },
    {
      "cell_type": "markdown",
      "metadata": {
        "id": "W8tJR0Lw86Sb"
      },
      "source": [
        "# Question 4"
      ]
    },
    {
      "cell_type": "code",
      "execution_count": 5,
      "metadata": {
        "id": "brrGOoQ982C9"
      },
      "outputs": [],
      "source": [
        "import torch\n",
        "import torch.nn as nn"
      ]
    },
    {
      "cell_type": "code",
      "execution_count": 6,
      "metadata": {
        "colab": {
          "base_uri": "https://localhost:8080/"
        },
        "id": "9bjY-svw89X1",
        "outputId": "98f9e27a-0994-4650-f9a3-774d74959e29"
      },
      "outputs": [
        {
          "name": "stdout",
          "output_type": "stream",
          "text": [
            "tensor([[[[1.0739, 2.5891],\n",
            "          [4.1044, 5.6197]]]])\n"
          ]
        }
      ],
      "source": [
        "seed = 1\n",
        "torch.manual_seed(seed)\n",
        "input_tensor = torch.tensor([[[[1.0, 2.0], [3.0, 4.0]]]])\n",
        "\n",
        "conv_layer = nn.Conv2d(in_channels=1, out_channels=1, kernel_size=1)\n",
        "conv_output = conv_layer(input_tensor)\n",
        "\n",
        "with torch.no_grad():\n",
        "  output = conv_output + input_tensor\n",
        "  print(output)"
      ]
    },
    {
      "cell_type": "code",
      "execution_count": null,
      "metadata": {
        "id": "4RdGOi2P9T28"
      },
      "outputs": [],
      "source": []
    }
  ],
  "metadata": {
    "colab": {
      "provenance": []
    },
    "kernelspec": {
      "display_name": "Python 3",
      "name": "python3"
    },
    "language_info": {
      "name": "python",
      "version": "3.12.3"
    }
  },
  "nbformat": 4,
  "nbformat_minor": 0
}
