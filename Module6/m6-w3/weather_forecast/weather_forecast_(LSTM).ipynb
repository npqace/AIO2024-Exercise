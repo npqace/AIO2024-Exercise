{
  "cells": [
    {
      "cell_type": "markdown",
      "id": "207bc665",
      "metadata": {
        "id": "207bc665"
      },
      "source": [
        "## 0. Download dataset\n",
        "**Note:** If you can't download using gdown due to limited number of downloads, please download it manually and upload it to your drive, then copy it from the drive to colab.\n",
        "```python\n",
        "from google.colab import drive\n",
        "\n",
        "drive.mount('/content/drive')\n",
        "!cp /path/to/dataset/on/your/drive .\n",
        "```"
      ]
    },
    {
      "cell_type": "code",
      "execution_count": 1,
      "id": "631a7fa8",
      "metadata": {
        "colab": {
          "base_uri": "https://localhost:8080/",
          "height": 0
        },
        "id": "631a7fa8",
        "outputId": "7b84e0c2-f7c5-4cda-97c8-c5b41ed69f6e"
      },
      "outputs": [
        {
          "output_type": "stream",
          "name": "stdout",
          "text": [
            "/usr/local/lib/python3.10/dist-packages/gdown/__main__.py:140: FutureWarning: Option `--id` was deprecated in version 4.3.1 and will be removed in 5.0. You don't need to pass it anymore to use a file ID.\n",
            "  warnings.warn(\n",
            "Downloading...\n",
            "From: https://drive.google.com/uc?id=178YSDYmlRh54IcxStgYA3UyKFRM9-3DO\n",
            "To: /content/dataset.zip\n",
            "100% 2.35M/2.35M [00:00<00:00, 42.3MB/s]\n"
          ]
        }
      ],
      "source": [
        "!gdown --id 178YSDYmlRh54IcxStgYA3UyKFRM9-3DO"
      ]
    },
    {
      "cell_type": "code",
      "source": [
        "!unzip dataset.zip"
      ],
      "metadata": {
        "colab": {
          "base_uri": "https://localhost:8080/",
          "height": 0
        },
        "id": "WE4dvzXF_uCG",
        "outputId": "2306a735-9a5d-4d89-e6a4-6b58db9b1051"
      },
      "id": "WE4dvzXF_uCG",
      "execution_count": 2,
      "outputs": [
        {
          "output_type": "stream",
          "name": "stdout",
          "text": [
            "Archive:  dataset.zip\n",
            "   creating: dataset/\n",
            "  inflating: dataset/weatherHistory.csv  \n"
          ]
        }
      ]
    },
    {
      "cell_type": "code",
      "source": [
        "!pip install unidecode"
      ],
      "metadata": {
        "colab": {
          "base_uri": "https://localhost:8080/",
          "height": 0
        },
        "id": "braFIIuv_vu1",
        "outputId": "340f08b2-4f43-40b1-bcfb-c914e410e332"
      },
      "id": "braFIIuv_vu1",
      "execution_count": 3,
      "outputs": [
        {
          "output_type": "stream",
          "name": "stdout",
          "text": [
            "Collecting unidecode\n",
            "  Downloading Unidecode-1.3.8-py3-none-any.whl.metadata (13 kB)\n",
            "Downloading Unidecode-1.3.8-py3-none-any.whl (235 kB)\n",
            "\u001b[?25l   \u001b[90m━━━━━━━━━━━━━━━━━━━━━━━━━━━━━━━━━━━━━━━━\u001b[0m \u001b[32m0.0/235.5 kB\u001b[0m \u001b[31m?\u001b[0m eta \u001b[36m-:--:--\u001b[0m\r\u001b[2K   \u001b[90m━━━━━━━━━━━━━━━━━━━━━━━━━━━━━━━━━━━━━━━━\u001b[0m \u001b[32m235.5/235.5 kB\u001b[0m \u001b[31m7.7 MB/s\u001b[0m eta \u001b[36m0:00:00\u001b[0m\n",
            "\u001b[?25hInstalling collected packages: unidecode\n",
            "Successfully installed unidecode-1.3.8\n"
          ]
        }
      ]
    },
    {
      "cell_type": "markdown",
      "id": "138a5a26",
      "metadata": {
        "id": "138a5a26"
      },
      "source": [
        "## 1. Import libraries"
      ]
    },
    {
      "cell_type": "code",
      "execution_count": 4,
      "id": "5eefab75",
      "metadata": {
        "id": "5eefab75"
      },
      "outputs": [],
      "source": [
        "import torch\n",
        "import torch.nn as nn\n",
        "\n",
        "seed = 1\n",
        "torch.manual_seed(seed)\n",
        "\n",
        "import numpy as np\n",
        "import pandas as pd\n",
        "import matplotlib.pyplot as plt\n",
        "\n",
        "from torch.utils.data import Dataset, DataLoader"
      ]
    },
    {
      "cell_type": "markdown",
      "id": "2c44e3cb",
      "metadata": {
        "id": "2c44e3cb"
      },
      "source": [
        "## 2. Read dataset"
      ]
    },
    {
      "cell_type": "code",
      "execution_count": 5,
      "id": "0d4f054a",
      "metadata": {
        "scrolled": false,
        "id": "0d4f054a"
      },
      "outputs": [],
      "source": [
        "dataset_filepath = 'dataset/weatherHistory.csv'\n",
        "df = pd.read_csv(dataset_filepath)"
      ]
    },
    {
      "cell_type": "code",
      "execution_count": 6,
      "id": "7722ed65",
      "metadata": {
        "scrolled": false,
        "id": "7722ed65"
      },
      "outputs": [],
      "source": [
        "univariate_df = df['Temperature (C)']\n",
        "univariate_df.index = df['Formatted Date']"
      ]
    },
    {
      "cell_type": "code",
      "execution_count": 7,
      "id": "51fbb257",
      "metadata": {
        "colab": {
          "base_uri": "https://localhost:8080/",
          "height": 490
        },
        "id": "51fbb257",
        "outputId": "b59f780c-f56d-4d9a-87ad-18864502ac67"
      },
      "outputs": [
        {
          "output_type": "execute_result",
          "data": {
            "text/plain": [
              "Formatted Date\n",
              "2006-04-01 00:00:00.000 +0200     9.472222\n",
              "2006-04-01 01:00:00.000 +0200     9.355556\n",
              "2006-04-01 02:00:00.000 +0200     9.377778\n",
              "2006-04-01 03:00:00.000 +0200     8.288889\n",
              "2006-04-01 04:00:00.000 +0200     8.755556\n",
              "                                   ...    \n",
              "2016-09-09 19:00:00.000 +0200    26.016667\n",
              "2016-09-09 20:00:00.000 +0200    24.583333\n",
              "2016-09-09 21:00:00.000 +0200    22.038889\n",
              "2016-09-09 22:00:00.000 +0200    21.522222\n",
              "2016-09-09 23:00:00.000 +0200    20.438889\n",
              "Name: Temperature (C), Length: 96453, dtype: float64"
            ],
            "text/html": [
              "<div>\n",
              "<style scoped>\n",
              "    .dataframe tbody tr th:only-of-type {\n",
              "        vertical-align: middle;\n",
              "    }\n",
              "\n",
              "    .dataframe tbody tr th {\n",
              "        vertical-align: top;\n",
              "    }\n",
              "\n",
              "    .dataframe thead th {\n",
              "        text-align: right;\n",
              "    }\n",
              "</style>\n",
              "<table border=\"1\" class=\"dataframe\">\n",
              "  <thead>\n",
              "    <tr style=\"text-align: right;\">\n",
              "      <th></th>\n",
              "      <th>Temperature (C)</th>\n",
              "    </tr>\n",
              "    <tr>\n",
              "      <th>Formatted Date</th>\n",
              "      <th></th>\n",
              "    </tr>\n",
              "  </thead>\n",
              "  <tbody>\n",
              "    <tr>\n",
              "      <th>2006-04-01 00:00:00.000 +0200</th>\n",
              "      <td>9.472222</td>\n",
              "    </tr>\n",
              "    <tr>\n",
              "      <th>2006-04-01 01:00:00.000 +0200</th>\n",
              "      <td>9.355556</td>\n",
              "    </tr>\n",
              "    <tr>\n",
              "      <th>2006-04-01 02:00:00.000 +0200</th>\n",
              "      <td>9.377778</td>\n",
              "    </tr>\n",
              "    <tr>\n",
              "      <th>2006-04-01 03:00:00.000 +0200</th>\n",
              "      <td>8.288889</td>\n",
              "    </tr>\n",
              "    <tr>\n",
              "      <th>2006-04-01 04:00:00.000 +0200</th>\n",
              "      <td>8.755556</td>\n",
              "    </tr>\n",
              "    <tr>\n",
              "      <th>...</th>\n",
              "      <td>...</td>\n",
              "    </tr>\n",
              "    <tr>\n",
              "      <th>2016-09-09 19:00:00.000 +0200</th>\n",
              "      <td>26.016667</td>\n",
              "    </tr>\n",
              "    <tr>\n",
              "      <th>2016-09-09 20:00:00.000 +0200</th>\n",
              "      <td>24.583333</td>\n",
              "    </tr>\n",
              "    <tr>\n",
              "      <th>2016-09-09 21:00:00.000 +0200</th>\n",
              "      <td>22.038889</td>\n",
              "    </tr>\n",
              "    <tr>\n",
              "      <th>2016-09-09 22:00:00.000 +0200</th>\n",
              "      <td>21.522222</td>\n",
              "    </tr>\n",
              "    <tr>\n",
              "      <th>2016-09-09 23:00:00.000 +0200</th>\n",
              "      <td>20.438889</td>\n",
              "    </tr>\n",
              "  </tbody>\n",
              "</table>\n",
              "<p>96453 rows × 1 columns</p>\n",
              "</div><br><label><b>dtype:</b> float64</label>"
            ]
          },
          "metadata": {},
          "execution_count": 7
        }
      ],
      "source": [
        "univariate_df"
      ]
    },
    {
      "cell_type": "markdown",
      "id": "a94cee77",
      "metadata": {
        "id": "a94cee77"
      },
      "source": [
        "## 3. Data preprocessing"
      ]
    },
    {
      "cell_type": "code",
      "execution_count": 8,
      "id": "c2b2e79d",
      "metadata": {
        "id": "c2b2e79d"
      },
      "outputs": [],
      "source": [
        "input_size = 6\n",
        "label_size = 1\n",
        "offset = 1\n",
        "\n",
        "def slicing_window(df, df_start_idx, df_end_idx, input_size, label_size, offset):\n",
        "    features = []\n",
        "    labels = []\n",
        "\n",
        "    window_size = input_size + offset\n",
        "\n",
        "    if df_end_idx == None:\n",
        "        df_end_idx = len(df) - window_size\n",
        "\n",
        "    for idx in range(df_start_idx, df_end_idx):\n",
        "        feature_end_idx = idx + input_size\n",
        "        label_start_idx = idx + window_size - label_size\n",
        "\n",
        "        feature = df[idx:feature_end_idx]\n",
        "        label = df[label_start_idx:(idx+window_size)]\n",
        "\n",
        "        features.append(feature)\n",
        "        labels.append(label)\n",
        "\n",
        "    features = np.expand_dims(np.array(features), -1)\n",
        "    labels = np.array(labels)\n",
        "\n",
        "    return features, labels"
      ]
    },
    {
      "cell_type": "markdown",
      "id": "a443009e",
      "metadata": {
        "id": "a443009e"
      },
      "source": [
        "## 4. Train, val, test split"
      ]
    },
    {
      "cell_type": "code",
      "execution_count": 9,
      "id": "08f3446b",
      "metadata": {
        "id": "08f3446b"
      },
      "outputs": [],
      "source": [
        "dataset_length = len(univariate_df)\n",
        "train_size = 0.7\n",
        "val_size = 0.2\n",
        "train_end_idx = int(train_size * dataset_length)\n",
        "val_end_idx = int(val_size * dataset_length) + train_end_idx\n",
        "\n",
        "X_train, y_train = slicing_window(\n",
        "    univariate_df,\n",
        "    df_start_idx=0,\n",
        "    df_end_idx=train_end_idx,\n",
        "    input_size=input_size,\n",
        "    label_size=label_size,\n",
        "    offset=offset\n",
        ")\n",
        "\n",
        "X_val, y_val = slicing_window(\n",
        "    univariate_df,\n",
        "    df_start_idx=train_end_idx,\n",
        "    df_end_idx=val_end_idx,\n",
        "    input_size=input_size,\n",
        "    label_size=label_size,\n",
        "    offset=offset\n",
        ")\n",
        "\n",
        "X_test, y_test = slicing_window(\n",
        "    univariate_df,\n",
        "    df_start_idx=val_end_idx,\n",
        "    df_end_idx=None,\n",
        "    input_size=input_size,\n",
        "    label_size=label_size,\n",
        "    offset=offset\n",
        ")"
      ]
    },
    {
      "cell_type": "markdown",
      "id": "e44f15c3",
      "metadata": {
        "id": "e44f15c3"
      },
      "source": [
        "## 5. Implement PyTorch dataset"
      ]
    },
    {
      "cell_type": "code",
      "execution_count": 10,
      "id": "9941afd8",
      "metadata": {
        "id": "9941afd8"
      },
      "outputs": [],
      "source": [
        "class WeatherForecast(Dataset):\n",
        "    def __init__(\n",
        "        self,\n",
        "        X, y,\n",
        "        transform=None\n",
        "    ):\n",
        "        self.X = X\n",
        "        self.y = y\n",
        "        self.transform = transform\n",
        "\n",
        "    def __len__(self):\n",
        "        return len(self.X)\n",
        "\n",
        "    def __getitem__(self, idx):\n",
        "        X = self.X[idx]\n",
        "        y = self.y[idx]\n",
        "\n",
        "        if self.transform:\n",
        "            X = self.transform(X)\n",
        "\n",
        "        X = torch.tensor(X, dtype=torch.float32)\n",
        "        y = torch.tensor(y, dtype=torch.float32)\n",
        "\n",
        "        return X, y"
      ]
    },
    {
      "cell_type": "markdown",
      "id": "35746976",
      "metadata": {
        "id": "35746976"
      },
      "source": [
        "## 6. Create dataloader"
      ]
    },
    {
      "cell_type": "code",
      "execution_count": 11,
      "id": "462de074",
      "metadata": {
        "id": "462de074"
      },
      "outputs": [],
      "source": [
        "train_dataset = WeatherForecast(\n",
        "    X_train, y_train\n",
        ")\n",
        "val_dataset = WeatherForecast(\n",
        "    X_val, y_val\n",
        ")\n",
        "test_dataset = WeatherForecast(\n",
        "    X_test, y_test\n",
        ")"
      ]
    },
    {
      "cell_type": "code",
      "execution_count": 12,
      "id": "8fd30115",
      "metadata": {
        "id": "8fd30115"
      },
      "outputs": [],
      "source": [
        "train_batch_size = 128\n",
        "test_batch_size = 8\n",
        "\n",
        "train_loader = DataLoader(\n",
        "    train_dataset,\n",
        "    batch_size=train_batch_size,\n",
        "    shuffle=True\n",
        ")\n",
        "val_loader = DataLoader(\n",
        "    val_dataset,\n",
        "    batch_size=test_batch_size,\n",
        "    shuffle=False\n",
        ")\n",
        "test_loader = DataLoader(\n",
        "    test_dataset,\n",
        "    batch_size=test_batch_size,\n",
        "    shuffle=False\n",
        ")"
      ]
    },
    {
      "cell_type": "markdown",
      "id": "c4275555",
      "metadata": {
        "id": "c4275555"
      },
      "source": [
        "## 7. Implement model"
      ]
    },
    {
      "cell_type": "code",
      "execution_count": 26,
      "id": "9ce5bfca",
      "metadata": {
        "id": "9ce5bfca"
      },
      "outputs": [],
      "source": [
        "class WeatherForecastor(nn.Module):\n",
        "    def __init__(\n",
        "        self, embedding_dim, hidden_size,\n",
        "        n_layers, dropout_prob\n",
        "    ):\n",
        "        super(WeatherForecastor, self).__init__()\n",
        "        self.rnn = nn.LSTM(\n",
        "            embedding_dim, hidden_size,\n",
        "            n_layers, batch_first=True\n",
        "        )\n",
        "        self.norm = nn.LayerNorm(hidden_size)\n",
        "\n",
        "        self.dropout = nn.Dropout(dropout_prob)\n",
        "        self.fc = nn.Linear(hidden_size, 1)\n",
        "\n",
        "    def forward(self, x):\n",
        "        x, hn = self.rnn(x)\n",
        "        x = x[:, -1, :]\n",
        "        x = self.norm(x)\n",
        "        x = self.dropout(x)\n",
        "        x = self.fc(x)\n",
        "\n",
        "        return x"
      ]
    },
    {
      "cell_type": "code",
      "execution_count": 27,
      "id": "3eb16c39",
      "metadata": {
        "id": "3eb16c39"
      },
      "outputs": [],
      "source": [
        "embedding_dim = 1\n",
        "hidden_size = 8\n",
        "n_layers = 3\n",
        "dropout_prob = 0.2\n",
        "device = 'cuda' if torch.cuda.is_available() else 'cpu'\n",
        "\n",
        "model = WeatherForecastor(\n",
        "    embedding_dim=embedding_dim,\n",
        "    hidden_size=hidden_size,\n",
        "    n_layers=n_layers,\n",
        "    dropout_prob=dropout_prob\n",
        ").to(device)"
      ]
    },
    {
      "cell_type": "code",
      "execution_count": 28,
      "id": "892152b6",
      "metadata": {
        "colab": {
          "base_uri": "https://localhost:8080/"
        },
        "id": "892152b6",
        "outputId": "93bb117d-8287-4224-9d8f-1869b2de5f31"
      },
      "outputs": [
        {
          "output_type": "stream",
          "name": "stdout",
          "text": [
            "Output shape: torch.Size([1, 1])\n"
          ]
        }
      ],
      "source": [
        "model.eval()\n",
        "\n",
        "dummy_tensor = torch.randn((1, 6, 1)).to(device)\n",
        "\n",
        "with torch.no_grad():\n",
        "    output = model(dummy_tensor)\n",
        "\n",
        "print('Output shape:', output.shape)"
      ]
    },
    {
      "cell_type": "markdown",
      "id": "f1e9597f",
      "metadata": {
        "id": "f1e9597f"
      },
      "source": [
        "## 8. Training"
      ]
    },
    {
      "cell_type": "code",
      "execution_count": 29,
      "id": "682d2073",
      "metadata": {
        "id": "682d2073"
      },
      "outputs": [],
      "source": [
        "def evaluate(model, dataloader, criterion, device):\n",
        "    model.eval()\n",
        "\n",
        "    losses = []\n",
        "    with torch.no_grad():\n",
        "        for inputs, labels in dataloader:\n",
        "            inputs, labels = inputs.to(device), labels.to(device)\n",
        "            outputs = model(inputs)\n",
        "            loss = criterion(outputs, labels)\n",
        "            losses.append(loss.item())\n",
        "\n",
        "    loss = sum(losses) / len(losses)\n",
        "\n",
        "    return loss"
      ]
    },
    {
      "cell_type": "code",
      "execution_count": 30,
      "id": "81145eec",
      "metadata": {
        "id": "81145eec"
      },
      "outputs": [],
      "source": [
        "def fit(\n",
        "    model,\n",
        "    train_loader,\n",
        "    val_loader,\n",
        "    criterion,\n",
        "    optimizer,\n",
        "    device,\n",
        "    epochs\n",
        "):\n",
        "    train_losses = []\n",
        "    val_losses = []\n",
        "\n",
        "    for epoch in range(epochs):\n",
        "        batch_train_losses = []\n",
        "\n",
        "        model.train()\n",
        "        for idx, (inputs, labels) in enumerate(train_loader):\n",
        "            inputs, labels = inputs.to(device), labels.to(device)\n",
        "\n",
        "            optimizer.zero_grad()\n",
        "            outputs = model(inputs)\n",
        "            loss = criterion(outputs, labels)\n",
        "            loss.backward()\n",
        "            optimizer.step()\n",
        "\n",
        "            batch_train_losses.append(loss.item())\n",
        "\n",
        "        train_loss = sum(batch_train_losses) / len(batch_train_losses)\n",
        "        train_losses.append(train_loss)\n",
        "\n",
        "        val_loss = evaluate(\n",
        "            model, val_loader,\n",
        "            criterion, device\n",
        "        )\n",
        "        val_losses.append(val_loss)\n",
        "\n",
        "        print(f'EPOCH {epoch + 1}:\\tTrain loss: {train_loss:.4f}\\tVal loss: {val_loss:.4f}')\n",
        "\n",
        "    return train_losses, val_losses"
      ]
    },
    {
      "cell_type": "code",
      "execution_count": 31,
      "id": "a80115e1",
      "metadata": {
        "id": "a80115e1"
      },
      "outputs": [],
      "source": [
        "lr = 1e-3\n",
        "epochs = 50\n",
        "\n",
        "criterion = nn.MSELoss()\n",
        "optimizer = torch.optim.Adam(\n",
        "    model.parameters(),\n",
        "    lr=lr\n",
        ")"
      ]
    },
    {
      "cell_type": "code",
      "execution_count": 32,
      "id": "3558ed3f",
      "metadata": {
        "scrolled": true,
        "colab": {
          "base_uri": "https://localhost:8080/"
        },
        "id": "3558ed3f",
        "outputId": "c32b6ca2-c8a8-4e6c-c556-9bbfa71dee6e"
      },
      "outputs": [
        {
          "output_type": "stream",
          "name": "stdout",
          "text": [
            "EPOCH 1:\tTrain loss: 146.9593\tVal loss: 53.9590\n",
            "EPOCH 2:\tTrain loss: 34.3278\tVal loss: 8.5051\n",
            "EPOCH 3:\tTrain loss: 14.8505\tVal loss: 3.4360\n",
            "EPOCH 4:\tTrain loss: 11.8240\tVal loss: 2.3043\n",
            "EPOCH 5:\tTrain loss: 11.0283\tVal loss: 2.1780\n",
            "EPOCH 6:\tTrain loss: 10.4136\tVal loss: 2.1262\n",
            "EPOCH 7:\tTrain loss: 9.9970\tVal loss: 1.8176\n",
            "EPOCH 8:\tTrain loss: 9.7490\tVal loss: 2.0305\n",
            "EPOCH 9:\tTrain loss: 9.3495\tVal loss: 1.7880\n",
            "EPOCH 10:\tTrain loss: 9.3350\tVal loss: 1.8389\n",
            "EPOCH 11:\tTrain loss: 8.9858\tVal loss: 1.8621\n",
            "EPOCH 12:\tTrain loss: 8.8731\tVal loss: 1.5622\n",
            "EPOCH 13:\tTrain loss: 8.5208\tVal loss: 1.8596\n",
            "EPOCH 14:\tTrain loss: 8.3139\tVal loss: 1.5607\n",
            "EPOCH 15:\tTrain loss: 8.2160\tVal loss: 1.6004\n",
            "EPOCH 16:\tTrain loss: 7.9570\tVal loss: 1.5446\n",
            "EPOCH 17:\tTrain loss: 7.9318\tVal loss: 1.6266\n",
            "EPOCH 18:\tTrain loss: 7.5987\tVal loss: 1.4632\n",
            "EPOCH 19:\tTrain loss: 7.4591\tVal loss: 2.3410\n",
            "EPOCH 20:\tTrain loss: 7.3908\tVal loss: 1.6856\n",
            "EPOCH 21:\tTrain loss: 7.2000\tVal loss: 1.4856\n",
            "EPOCH 22:\tTrain loss: 7.0555\tVal loss: 1.4935\n",
            "EPOCH 23:\tTrain loss: 6.9102\tVal loss: 1.5041\n",
            "EPOCH 24:\tTrain loss: 6.8403\tVal loss: 1.7525\n",
            "EPOCH 25:\tTrain loss: 6.8057\tVal loss: 1.4902\n",
            "EPOCH 26:\tTrain loss: 6.5948\tVal loss: 1.7068\n",
            "EPOCH 27:\tTrain loss: 6.5295\tVal loss: 1.5771\n",
            "EPOCH 28:\tTrain loss: 6.4484\tVal loss: 1.7293\n",
            "EPOCH 29:\tTrain loss: 6.2669\tVal loss: 1.5918\n",
            "EPOCH 30:\tTrain loss: 6.2891\tVal loss: 1.6651\n",
            "EPOCH 31:\tTrain loss: 6.1980\tVal loss: 1.5101\n",
            "EPOCH 32:\tTrain loss: 6.1305\tVal loss: 1.6256\n",
            "EPOCH 33:\tTrain loss: 6.0738\tVal loss: 1.5653\n",
            "EPOCH 34:\tTrain loss: 5.9371\tVal loss: 1.6165\n",
            "EPOCH 35:\tTrain loss: 5.9100\tVal loss: 1.7158\n",
            "EPOCH 36:\tTrain loss: 5.8704\tVal loss: 1.5762\n",
            "EPOCH 37:\tTrain loss: 5.9179\tVal loss: 1.5890\n",
            "EPOCH 38:\tTrain loss: 5.7773\tVal loss: 1.7837\n",
            "EPOCH 39:\tTrain loss: 5.7904\tVal loss: 1.4725\n",
            "EPOCH 40:\tTrain loss: 5.7990\tVal loss: 1.5713\n",
            "EPOCH 41:\tTrain loss: 5.7435\tVal loss: 1.4760\n",
            "EPOCH 42:\tTrain loss: 5.7198\tVal loss: 1.6455\n",
            "EPOCH 43:\tTrain loss: 5.7303\tVal loss: 1.6290\n",
            "EPOCH 44:\tTrain loss: 5.6090\tVal loss: 1.5537\n",
            "EPOCH 45:\tTrain loss: 5.6537\tVal loss: 1.5388\n",
            "EPOCH 46:\tTrain loss: 5.6047\tVal loss: 1.5795\n",
            "EPOCH 47:\tTrain loss: 5.5811\tVal loss: 1.5555\n",
            "EPOCH 48:\tTrain loss: 5.6290\tVal loss: 1.5203\n",
            "EPOCH 49:\tTrain loss: 5.5730\tVal loss: 1.5131\n",
            "EPOCH 50:\tTrain loss: 5.5145\tVal loss: 1.4954\n"
          ]
        }
      ],
      "source": [
        "train_losses, val_losses = fit(\n",
        "    model,\n",
        "    train_loader,\n",
        "    val_loader,\n",
        "    criterion,\n",
        "    optimizer,\n",
        "    device,\n",
        "    epochs\n",
        ")"
      ]
    },
    {
      "cell_type": "code",
      "execution_count": 33,
      "id": "866ac448",
      "metadata": {
        "scrolled": true,
        "colab": {
          "base_uri": "https://localhost:8080/",
          "height": 487
        },
        "id": "866ac448",
        "outputId": "3de14a42-8dc3-4035-88f5-f1c07b73e157"
      },
      "outputs": [
        {
          "output_type": "display_data",
          "data": {
            "text/plain": [
              "<Figure size 1200x500 with 2 Axes>"
            ],
            "image/png": "[encoded data removed]"
          },
          "metadata": {}
        }
      ],
      "source": [
        "fig, ax = plt.subplots(1, 2, figsize=(12, 5))\n",
        "ax[0].plot(train_losses)\n",
        "ax[0].set_title('Training Loss')\n",
        "ax[0].set_xlabel('Epoch')\n",
        "ax[0].set_ylabel('Loss')\n",
        "ax[1].plot(val_losses, color='orange')\n",
        "ax[1].set_title('Val Loss')\n",
        "ax[1].set_xlabel('Epoch')\n",
        "ax[1].set_ylabel('Loss')\n",
        "plt.show()"
      ]
    },
    {
      "cell_type": "markdown",
      "id": "5cbf04f6",
      "metadata": {
        "id": "5cbf04f6"
      },
      "source": [
        "## 9. Evaluation"
      ]
    },
    {
      "cell_type": "code",
      "execution_count": 34,
      "id": "e0a2d0fe",
      "metadata": {
        "colab": {
          "base_uri": "https://localhost:8080/"
        },
        "id": "e0a2d0fe",
        "outputId": "9f95545a-8439-41c5-feb5-b3f78a6e9836"
      },
      "outputs": [
        {
          "output_type": "stream",
          "name": "stdout",
          "text": [
            "Evaluation on val/test dataset\n",
            "Val loss:  1.4953563058649222\n",
            "Test loss:  1.3163472452931322\n"
          ]
        }
      ],
      "source": [
        "val_loss = evaluate(\n",
        "    model,\n",
        "    val_loader,\n",
        "    criterion,\n",
        "    device\n",
        ")\n",
        "test_loss = evaluate(\n",
        "    model,\n",
        "    test_loader,\n",
        "    criterion,\n",
        "    device\n",
        ")\n",
        "\n",
        "print('Evaluation on val/test dataset')\n",
        "print('Val loss: ', val_loss)\n",
        "print('Test loss: ', test_loss)"
      ]
    },
    {
      "cell_type": "code",
      "execution_count": 35,
      "id": "6fb1b51a",
      "metadata": {
        "colab": {
          "base_uri": "https://localhost:8080/",
          "height": 564
        },
        "id": "6fb1b51a",
        "outputId": "84e441f6-c7d1-46bc-c563-da64fe4dcd54"
      },
      "outputs": [
        {
          "output_type": "display_data",
          "data": {
            "text/plain": [
              "<Figure size 2000x600 with 1 Axes>"
            ],
            "image/png": "[encoded data removed]"
          },
          "metadata": {}
        }
      ],
      "source": [
        "def plot_difference(y, pred):\n",
        "    plt.figure(figsize=(20, 6))\n",
        "    times = range(len(y))\n",
        "    y_to_plot = y.flatten()\n",
        "    pred_to_plot = pred.flatten()\n",
        "\n",
        "    plt.plot(times, y_to_plot, color='steelblue', marker='o', label='True value')\n",
        "    plt.plot(times, pred_to_plot, color='orangered', marker='X', label='Prediction')\n",
        "\n",
        "    plt.title('Temperature in every hours')\n",
        "    plt.xlabel('Hour')\n",
        "    plt.ylabel('Temperature (C)')\n",
        "    plt.legend()\n",
        "    plt.show()\n",
        "\n",
        "inputs = torch.tensor(X_test[:100], dtype=torch.float32).to(device)\n",
        "model.eval()\n",
        "with torch.no_grad():\n",
        "    outputs = model(inputs).detach().cpu().numpy()\n",
        "plot_difference(y_test[:100], outputs)"
      ]
    },
    {
      "cell_type": "code",
      "source": [],
      "metadata": {
        "id": "EZsTdm_XjhNr"
      },
      "id": "EZsTdm_XjhNr",
      "execution_count": 22,
      "outputs": []
    }
  ],
  "metadata": {
    "kernelspec": {
      "display_name": "Python [conda env:thangdd_env] *",
      "language": "python",
      "name": "conda-env-thangdd_env-py"
    },
    "language_info": {
      "codemirror_mode": {
        "name": "ipython",
        "version": 3
      },
      "file_extension": ".py",
      "mimetype": "text/x-python",
      "name": "python",
      "nbconvert_exporter": "python",
      "pygments_lexer": "ipython3",
      "version": "3.11.5"
    },
    "colab": {
      "provenance": []
    }
  },
  "nbformat": 4,
  "nbformat_minor": 5
}