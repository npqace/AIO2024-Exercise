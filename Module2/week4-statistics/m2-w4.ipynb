{
  "cells": [
    {
      "cell_type": "markdown",
      "metadata": {
        "id": "mmZ9zkLVnus-"
      },
      "source": [
        "# **I. Basic Probability**"
      ]
    },
    {
      "cell_type": "code",
      "execution_count": 1,
      "metadata": {
        "colab": {
          "base_uri": "https://localhost:8080/"
        },
        "id": "f2LsASg2nuKh",
        "outputId": "24c99cf6-502d-4b2c-e060-7cd558bdc9eb"
      },
      "outputs": [
        {
          "name": "stdout",
          "output_type": "stream",
          "text": [
            "Mean :  1.8\n"
          ]
        }
      ],
      "source": [
        "# question 1\n",
        "\n",
        "import numpy as np\n",
        "\n",
        "def compute_mean(X):\n",
        "  return np.sum(X) / len(X)\n",
        "\n",
        "X = [2, 0, 2, 2, 7, 4, -2, 5, -1, -1]\n",
        "\n",
        "print(\"Mean : \", compute_mean(X))"
      ]
    },
    {
      "cell_type": "code",
      "execution_count": 2,
      "metadata": {
        "colab": {
          "base_uri": "https://localhost:8080/"
        },
        "id": "lPdw2t_Tn9my",
        "outputId": "bc9a9a59-246d-4693-bc3a-eb0843248a44"
      },
      "outputs": [
        {
          "name": "stdout",
          "output_type": "stream",
          "text": [
            "[ 1  4  4  5  9 13]\n",
            "Median:  4.5\n"
          ]
        }
      ],
      "source": [
        "# question 2\n",
        "\n",
        "def compute_median(X):\n",
        "  size = len(X)\n",
        "  X = np.sort(X)\n",
        "  print(X)\n",
        "  if (size % 2 == 0):\n",
        "    return (1/2*(X[int(size/2)-1] \\\n",
        "                 + (X[int(size/2) + 1 - 1])))\n",
        "  else:\n",
        "    return X[int((size+1)/2)-1]\n",
        "\n",
        "X = [1, 5, 4, 4, 9, 13]\n",
        "print(\"Median: \", compute_median(X))"
      ]
    },
    {
      "cell_type": "code",
      "execution_count": 3,
      "metadata": {
        "colab": {
          "base_uri": "https://localhost:8080/"
        },
        "id": "rF43mmLtn_Y_",
        "outputId": "e4f4f187-38c9-4380-ae73-edbda34a81b2"
      },
      "outputs": [
        {
          "name": "stdout",
          "output_type": "stream",
          "text": [
            "8.33\n"
          ]
        }
      ],
      "source": [
        "# question 3\n",
        "\n",
        "def compute_std(X):\n",
        "  mean = compute_mean(X)\n",
        "  variance = 0\n",
        "  for x in X:\n",
        "    variance = variance + (x - mean)**2\n",
        "  variance = variance / len(X)\n",
        "  return np.sqrt(variance)\n",
        "\n",
        "X = [ 171, 176, 155, 167, 169, 182]\n",
        "print(np.round(compute_std(X),2))"
      ]
    },
    {
      "cell_type": "code",
      "execution_count": 4,
      "metadata": {
        "colab": {
          "base_uri": "https://localhost:8080/"
        },
        "id": "MOOobYDaoBiJ",
        "outputId": "197916b3-154b-43fb-e06c-255fd88cb409"
      },
      "outputs": [
        {
          "name": "stdout",
          "output_type": "stream",
          "text": [
            "Mean:  170.0\n",
            "edian:  170.0\n",
            "Std:  8.32666399786453\n",
            "Variance:  69.33333333333333\n"
          ]
        }
      ],
      "source": [
        "data = np.array([ 171, 176, 155, 167, 169, 182])\n",
        "\n",
        "print(\"Mean: \", np.mean(data))\n",
        "print(\"edian: \", np.median(data))\n",
        "print(\"Std: \", np.std(data))\n",
        "print(\"Variance: \", np.var(data))"
      ]
    },
    {
      "cell_type": "code",
      "execution_count": 5,
      "metadata": {
        "colab": {
          "base_uri": "https://localhost:8080/"
        },
        "id": "6GRQ70HxoEWl",
        "outputId": "bb12ccad-b3b7-4d86-9291-669baee4e2a2"
      },
      "outputs": [
        {
          "name": "stdout",
          "output_type": "stream",
          "text": [
            "Correlation:  0.42\n"
          ]
        }
      ],
      "source": [
        "# question 4\n",
        "\n",
        "def compute_correlation_cofficient(X, Y):\n",
        "  N = len(X)\n",
        "  numerator = N * X.dot(Y) - np.sum(X)*np.sum(Y)\n",
        "  denominator = np.sqrt(N*np.sum(np.square(X))-np.sum(X)**2) \\\n",
        "    * np.sqrt(N*np.sum(np.square(Y))-np.sum(Y)**2)\n",
        "\n",
        "  return np.round(numerator / denominator,2)\n",
        "\n",
        "X = np.asarray([-2, -5, -11, 6, 4, 15, 9])\n",
        "Y = np.asarray([4, 25, 121, 36, 16, 225, 81])\n",
        "print(\"Correlation: \", compute_correlation_cofficient(X,Y))"
      ]
    },
    {
      "cell_type": "code",
      "execution_count": null,
      "metadata": {
        "colab": {
          "base_uri": "https://localhost:8080/"
        },
        "id": "FMEgO-P9oHBr",
        "outputId": "944693f6-c3b7-415a-cdc6-f2d7a8ca33a0"
      },
      "outputs": [
        {
          "data": {
            "text/plain": [
              "array([[0.78272146, 0.47974191, 0.68902883],\n",
              "       [0.40995559, 0.35052769, 0.87228632]])"
            ]
          },
          "execution_count": 36,
          "metadata": {},
          "output_type": "execute_result"
        }
      ],
      "source": [
        "data = np.random.uniform(0, 1, (2, 3))\n",
        "data"
      ]
    },
    {
      "cell_type": "code",
      "execution_count": null,
      "metadata": {
        "colab": {
          "base_uri": "https://localhost:8080/"
        },
        "id": "dBF-pcK1oIrJ",
        "outputId": "14b40343-65e2-436a-8583-cc7151239fdf"
      },
      "outputs": [
        {
          "data": {
            "text/plain": [
              "array([[ 2.57209893,  0.63685587,  0.93404438],\n",
              "       [-0.14875354,  0.51704678, -0.14175513]])"
            ]
          },
          "execution_count": 37,
          "metadata": {},
          "output_type": "execute_result"
        }
      ],
      "source": [
        "data = np.random.normal(0, 1, (2, 3))\n",
        "data"
      ]
    },
    {
      "cell_type": "markdown",
      "metadata": {
        "id": "XMu2a1d9nCz3"
      },
      "source": [
        "#**II. Tabular Data Analysis**"
      ]
    },
    {
      "cell_type": "code",
      "execution_count": 6,
      "metadata": {
        "id": "wp7IKstpnItZ"
      },
      "outputs": [],
      "source": [
        "import pandas as pd\n",
        "import numpy as np\n",
        "import seaborn as sns\n",
        "import matplotlib.pyplot as plt"
      ]
    },
    {
      "cell_type": "code",
      "execution_count": 7,
      "metadata": {
        "colab": {
          "base_uri": "https://localhost:8080/"
        },
        "id": "zl19auhnnGM3",
        "outputId": "8f89355b-f1b5-45bf-b215-b718fe8c0534"
      },
      "outputs": [
        {
          "name": "stdout",
          "output_type": "stream",
          "text": [
            "Downloading...\n",
            "From: https://drive.google.com/uc?id=1iA0WmVfW88HyJvTBSQDI5vesf-pgKabq\n",
            "To: /content/advertising.csv\n",
            "\r  0% 0.00/4.06k [00:00<?, ?B/s]\r100% 4.06k/4.06k [00:00<00:00, 11.8MB/s]\n"
          ]
        }
      ],
      "source": [
        "!gdown 1iA0WmVfW88HyJvTBSQDI5vesf-pgKabq"
      ]
    },
    {
      "cell_type": "code",
      "execution_count": 8,
      "metadata": {
        "colab": {
          "base_uri": "https://localhost:8080/",
          "height": 424
        },
        "id": "KqfdBejlnPrq",
        "outputId": "bd45013d-bdc9-494a-e0ff-853bb492fd09"
      },
      "outputs": [
        {
          "data": {
            "application/vnd.google.colaboratory.intrinsic+json": {
              "summary": "{\n  \"name\": \"data\",\n  \"rows\": 200,\n  \"fields\": [\n    {\n      \"column\": \"TV\",\n      \"properties\": {\n        \"dtype\": \"number\",\n        \"std\": 85.8542363149081,\n        \"min\": 0.7,\n        \"max\": 296.4,\n        \"num_unique_values\": 190,\n        \"samples\": [\n          287.6,\n          286.0,\n          78.2\n        ],\n        \"semantic_type\": \"\",\n        \"description\": \"\"\n      }\n    },\n    {\n      \"column\": \"Radio\",\n      \"properties\": {\n        \"dtype\": \"number\",\n        \"std\": 14.846809176168723,\n        \"min\": 0.0,\n        \"max\": 49.6,\n        \"num_unique_values\": 167,\n        \"samples\": [\n          8.2,\n          36.9,\n          44.5\n        ],\n        \"semantic_type\": \"\",\n        \"description\": \"\"\n      }\n    },\n    {\n      \"column\": \"Newspaper\",\n      \"properties\": {\n        \"dtype\": \"number\",\n        \"std\": 21.778620838522833,\n        \"min\": 0.3,\n        \"max\": 114.0,\n        \"num_unique_values\": 172,\n        \"samples\": [\n          22.3,\n          5.7,\n          17.0\n        ],\n        \"semantic_type\": \"\",\n        \"description\": \"\"\n      }\n    },\n    {\n      \"column\": \"Sales\",\n      \"properties\": {\n        \"dtype\": \"number\",\n        \"std\": 5.283892252561874,\n        \"min\": 1.6,\n        \"max\": 27.0,\n        \"num_unique_values\": 121,\n        \"samples\": [\n          19.8,\n          22.6,\n          17.9\n        ],\n        \"semantic_type\": \"\",\n        \"description\": \"\"\n      }\n    }\n  ]\n}",
              "type": "dataframe",
              "variable_name": "data"
            },
            "text/html": [
              "\n",
              "  <div id=\"df-74c9e979-a167-4fb3-9232-db004ea11523\" class=\"colab-df-container\">\n",
              "    <div>\n",
              "<style scoped>\n",
              "    .dataframe tbody tr th:only-of-type {\n",
              "        vertical-align: middle;\n",
              "    }\n",
              "\n",
              "    .dataframe tbody tr th {\n",
              "        vertical-align: top;\n",
              "    }\n",
              "\n",
              "    .dataframe thead th {\n",
              "        text-align: right;\n",
              "    }\n",
              "</style>\n",
              "<table border=\"1\" class=\"dataframe\">\n",
              "  <thead>\n",
              "    <tr style=\"text-align: right;\">\n",
              "      <th></th>\n",
              "      <th>TV</th>\n",
              "      <th>Radio</th>\n",
              "      <th>Newspaper</th>\n",
              "      <th>Sales</th>\n",
              "    </tr>\n",
              "  </thead>\n",
              "  <tbody>\n",
              "    <tr>\n",
              "      <th>0</th>\n",
              "      <td>230.1</td>\n",
              "      <td>37.8</td>\n",
              "      <td>69.2</td>\n",
              "      <td>22.1</td>\n",
              "    </tr>\n",
              "    <tr>\n",
              "      <th>1</th>\n",
              "      <td>44.5</td>\n",
              "      <td>39.3</td>\n",
              "      <td>45.1</td>\n",
              "      <td>10.4</td>\n",
              "    </tr>\n",
              "    <tr>\n",
              "      <th>2</th>\n",
              "      <td>17.2</td>\n",
              "      <td>45.9</td>\n",
              "      <td>69.3</td>\n",
              "      <td>12.0</td>\n",
              "    </tr>\n",
              "    <tr>\n",
              "      <th>3</th>\n",
              "      <td>151.5</td>\n",
              "      <td>41.3</td>\n",
              "      <td>58.5</td>\n",
              "      <td>16.5</td>\n",
              "    </tr>\n",
              "    <tr>\n",
              "      <th>4</th>\n",
              "      <td>180.8</td>\n",
              "      <td>10.8</td>\n",
              "      <td>58.4</td>\n",
              "      <td>17.9</td>\n",
              "    </tr>\n",
              "    <tr>\n",
              "      <th>...</th>\n",
              "      <td>...</td>\n",
              "      <td>...</td>\n",
              "      <td>...</td>\n",
              "      <td>...</td>\n",
              "    </tr>\n",
              "    <tr>\n",
              "      <th>195</th>\n",
              "      <td>38.2</td>\n",
              "      <td>3.7</td>\n",
              "      <td>13.8</td>\n",
              "      <td>7.6</td>\n",
              "    </tr>\n",
              "    <tr>\n",
              "      <th>196</th>\n",
              "      <td>94.2</td>\n",
              "      <td>4.9</td>\n",
              "      <td>8.1</td>\n",
              "      <td>14.0</td>\n",
              "    </tr>\n",
              "    <tr>\n",
              "      <th>197</th>\n",
              "      <td>177.0</td>\n",
              "      <td>9.3</td>\n",
              "      <td>6.4</td>\n",
              "      <td>14.8</td>\n",
              "    </tr>\n",
              "    <tr>\n",
              "      <th>198</th>\n",
              "      <td>283.6</td>\n",
              "      <td>42.0</td>\n",
              "      <td>66.2</td>\n",
              "      <td>25.5</td>\n",
              "    </tr>\n",
              "    <tr>\n",
              "      <th>199</th>\n",
              "      <td>232.1</td>\n",
              "      <td>8.6</td>\n",
              "      <td>8.7</td>\n",
              "      <td>18.4</td>\n",
              "    </tr>\n",
              "  </tbody>\n",
              "</table>\n",
              "<p>200 rows × 4 columns</p>\n",
              "</div>\n",
              "    <div class=\"colab-df-buttons\">\n",
              "\n",
              "  <div class=\"colab-df-container\">\n",
              "    <button class=\"colab-df-convert\" onclick=\"convertToInteractive('df-74c9e979-a167-4fb3-9232-db004ea11523')\"\n",
              "            title=\"Convert this dataframe to an interactive table.\"\n",
              "            style=\"display:none;\">\n",
              "\n",
              "  <svg xmlns=\"http://www.w3.org/2000/svg\" height=\"24px\" viewBox=\"0 -960 960 960\">\n",
              "    <path d=\"M120-120v-720h720v720H120Zm60-500h600v-160H180v160Zm220 220h160v-160H400v160Zm0 220h160v-160H400v160ZM180-400h160v-160H180v160Zm440 0h160v-160H620v160ZM180-180h160v-160H180v160Zm440 0h160v-160H620v160Z\"/>\n",
              "  </svg>\n",
              "    </button>\n",
              "\n",
              "  <style>\n",
              "    .colab-df-container {\n",
              "      display:flex;\n",
              "      gap: 12px;\n",
              "    }\n",
              "\n",
              "    .colab-df-convert {\n",
              "      background-color: #E8F0FE;\n",
              "      border: none;\n",
              "      border-radius: 50%;\n",
              "      cursor: pointer;\n",
              "      display: none;\n",
              "      fill: #1967D2;\n",
              "      height: 32px;\n",
              "      padding: 0 0 0 0;\n",
              "      width: 32px;\n",
              "    }\n",
              "\n",
              "    .colab-df-convert:hover {\n",
              "      background-color: #E2EBFA;\n",
              "      box-shadow: 0px 1px 2px rgba(60, 64, 67, 0.3), 0px 1px 3px 1px rgba(60, 64, 67, 0.15);\n",
              "      fill: #174EA6;\n",
              "    }\n",
              "\n",
              "    .colab-df-buttons div {\n",
              "      margin-bottom: 4px;\n",
              "    }\n",
              "\n",
              "    [theme=dark] .colab-df-convert {\n",
              "      background-color: #3B4455;\n",
              "      fill: #D2E3FC;\n",
              "    }\n",
              "\n",
              "    [theme=dark] .colab-df-convert:hover {\n",
              "      background-color: #434B5C;\n",
              "      box-shadow: 0px 1px 3px 1px rgba(0, 0, 0, 0.15);\n",
              "      filter: drop-shadow(0px 1px 2px rgba(0, 0, 0, 0.3));\n",
              "      fill: #FFFFFF;\n",
              "    }\n",
              "  </style>\n",
              "\n",
              "    <script>\n",
              "      const buttonEl =\n",
              "        document.querySelector('#df-74c9e979-a167-4fb3-9232-db004ea11523 button.colab-df-convert');\n",
              "      buttonEl.style.display =\n",
              "        google.colab.kernel.accessAllowed ? 'block' : 'none';\n",
              "\n",
              "      async function convertToInteractive(key) {\n",
              "        const element = document.querySelector('#df-74c9e979-a167-4fb3-9232-db004ea11523');\n",
              "        const dataTable =\n",
              "          await google.colab.kernel.invokeFunction('convertToInteractive',\n",
              "                                                    [key], {});\n",
              "        if (!dataTable) return;\n",
              "\n",
              "        const docLinkHtml = 'Like what you see? Visit the ' +\n",
              "          '<a target=\"_blank\" href=https://colab.research.google.com/notebooks/data_table.ipynb>data table notebook</a>'\n",
              "          + ' to learn more about interactive tables.';\n",
              "        element.innerHTML = '';\n",
              "        dataTable['output_type'] = 'display_data';\n",
              "        await google.colab.output.renderOutput(dataTable, element);\n",
              "        const docLink = document.createElement('div');\n",
              "        docLink.innerHTML = docLinkHtml;\n",
              "        element.appendChild(docLink);\n",
              "      }\n",
              "    </script>\n",
              "  </div>\n",
              "\n",
              "\n",
              "<div id=\"df-90f3c2b3-37f8-4a1f-902e-831c3428686d\">\n",
              "  <button class=\"colab-df-quickchart\" onclick=\"quickchart('df-90f3c2b3-37f8-4a1f-902e-831c3428686d')\"\n",
              "            title=\"Suggest charts\"\n",
              "            style=\"display:none;\">\n",
              "\n",
              "<svg xmlns=\"http://www.w3.org/2000/svg\" height=\"24px\"viewBox=\"0 0 24 24\"\n",
              "     width=\"24px\">\n",
              "    <g>\n",
              "        <path d=\"M19 3H5c-1.1 0-2 .9-2 2v14c0 1.1.9 2 2 2h14c1.1 0 2-.9 2-2V5c0-1.1-.9-2-2-2zM9 17H7v-7h2v7zm4 0h-2V7h2v10zm4 0h-2v-4h2v4z\"/>\n",
              "    </g>\n",
              "</svg>\n",
              "  </button>\n",
              "\n",
              "<style>\n",
              "  .colab-df-quickchart {\n",
              "      --bg-color: #E8F0FE;\n",
              "      --fill-color: #1967D2;\n",
              "      --hover-bg-color: #E2EBFA;\n",
              "      --hover-fill-color: #174EA6;\n",
              "      --disabled-fill-color: #AAA;\n",
              "      --disabled-bg-color: #DDD;\n",
              "  }\n",
              "\n",
              "  [theme=dark] .colab-df-quickchart {\n",
              "      --bg-color: #3B4455;\n",
              "      --fill-color: #D2E3FC;\n",
              "      --hover-bg-color: #434B5C;\n",
              "      --hover-fill-color: #FFFFFF;\n",
              "      --disabled-bg-color: #3B4455;\n",
              "      --disabled-fill-color: #666;\n",
              "  }\n",
              "\n",
              "  .colab-df-quickchart {\n",
              "    background-color: var(--bg-color);\n",
              "    border: none;\n",
              "    border-radius: 50%;\n",
              "    cursor: pointer;\n",
              "    display: none;\n",
              "    fill: var(--fill-color);\n",
              "    height: 32px;\n",
              "    padding: 0;\n",
              "    width: 32px;\n",
              "  }\n",
              "\n",
              "  .colab-df-quickchart:hover {\n",
              "    background-color: var(--hover-bg-color);\n",
              "    box-shadow: 0 1px 2px rgba(60, 64, 67, 0.3), 0 1px 3px 1px rgba(60, 64, 67, 0.15);\n",
              "    fill: var(--button-hover-fill-color);\n",
              "  }\n",
              "\n",
              "  .colab-df-quickchart-complete:disabled,\n",
              "  .colab-df-quickchart-complete:disabled:hover {\n",
              "    background-color: var(--disabled-bg-color);\n",
              "    fill: var(--disabled-fill-color);\n",
              "    box-shadow: none;\n",
              "  }\n",
              "\n",
              "  .colab-df-spinner {\n",
              "    border: 2px solid var(--fill-color);\n",
              "    border-color: transparent;\n",
              "    border-bottom-color: var(--fill-color);\n",
              "    animation:\n",
              "      spin 1s steps(1) infinite;\n",
              "  }\n",
              "\n",
              "  @keyframes spin {\n",
              "    0% {\n",
              "      border-color: transparent;\n",
              "      border-bottom-color: var(--fill-color);\n",
              "      border-left-color: var(--fill-color);\n",
              "    }\n",
              "    20% {\n",
              "      border-color: transparent;\n",
              "      border-left-color: var(--fill-color);\n",
              "      border-top-color: var(--fill-color);\n",
              "    }\n",
              "    30% {\n",
              "      border-color: transparent;\n",
              "      border-left-color: var(--fill-color);\n",
              "      border-top-color: var(--fill-color);\n",
              "      border-right-color: var(--fill-color);\n",
              "    }\n",
              "    40% {\n",
              "      border-color: transparent;\n",
              "      border-right-color: var(--fill-color);\n",
              "      border-top-color: var(--fill-color);\n",
              "    }\n",
              "    60% {\n",
              "      border-color: transparent;\n",
              "      border-right-color: var(--fill-color);\n",
              "    }\n",
              "    80% {\n",
              "      border-color: transparent;\n",
              "      border-right-color: var(--fill-color);\n",
              "      border-bottom-color: var(--fill-color);\n",
              "    }\n",
              "    90% {\n",
              "      border-color: transparent;\n",
              "      border-bottom-color: var(--fill-color);\n",
              "    }\n",
              "  }\n",
              "</style>\n",
              "\n",
              "  <script>\n",
              "    async function quickchart(key) {\n",
              "      const quickchartButtonEl =\n",
              "        document.querySelector('#' + key + ' button');\n",
              "      quickchartButtonEl.disabled = true;  // To prevent multiple clicks.\n",
              "      quickchartButtonEl.classList.add('colab-df-spinner');\n",
              "      try {\n",
              "        const charts = await google.colab.kernel.invokeFunction(\n",
              "            'suggestCharts', [key], {});\n",
              "      } catch (error) {\n",
              "        console.error('Error during call to suggestCharts:', error);\n",
              "      }\n",
              "      quickchartButtonEl.classList.remove('colab-df-spinner');\n",
              "      quickchartButtonEl.classList.add('colab-df-quickchart-complete');\n",
              "    }\n",
              "    (() => {\n",
              "      let quickchartButtonEl =\n",
              "        document.querySelector('#df-90f3c2b3-37f8-4a1f-902e-831c3428686d button');\n",
              "      quickchartButtonEl.style.display =\n",
              "        google.colab.kernel.accessAllowed ? 'block' : 'none';\n",
              "    })();\n",
              "  </script>\n",
              "</div>\n",
              "\n",
              "  <div id=\"id_061cf9a5-b840-41d4-b9eb-6083ad0249e0\">\n",
              "    <style>\n",
              "      .colab-df-generate {\n",
              "        background-color: #E8F0FE;\n",
              "        border: none;\n",
              "        border-radius: 50%;\n",
              "        cursor: pointer;\n",
              "        display: none;\n",
              "        fill: #1967D2;\n",
              "        height: 32px;\n",
              "        padding: 0 0 0 0;\n",
              "        width: 32px;\n",
              "      }\n",
              "\n",
              "      .colab-df-generate:hover {\n",
              "        background-color: #E2EBFA;\n",
              "        box-shadow: 0px 1px 2px rgba(60, 64, 67, 0.3), 0px 1px 3px 1px rgba(60, 64, 67, 0.15);\n",
              "        fill: #174EA6;\n",
              "      }\n",
              "\n",
              "      [theme=dark] .colab-df-generate {\n",
              "        background-color: #3B4455;\n",
              "        fill: #D2E3FC;\n",
              "      }\n",
              "\n",
              "      [theme=dark] .colab-df-generate:hover {\n",
              "        background-color: #434B5C;\n",
              "        box-shadow: 0px 1px 3px 1px rgba(0, 0, 0, 0.15);\n",
              "        filter: drop-shadow(0px 1px 2px rgba(0, 0, 0, 0.3));\n",
              "        fill: #FFFFFF;\n",
              "      }\n",
              "    </style>\n",
              "    <button class=\"colab-df-generate\" onclick=\"generateWithVariable('data')\"\n",
              "            title=\"Generate code using this dataframe.\"\n",
              "            style=\"display:none;\">\n",
              "\n",
              "  <svg xmlns=\"http://www.w3.org/2000/svg\" height=\"24px\"viewBox=\"0 0 24 24\"\n",
              "       width=\"24px\">\n",
              "    <path d=\"M7,19H8.4L18.45,9,17,7.55,7,17.6ZM5,21V16.75L18.45,3.32a2,2,0,0,1,2.83,0l1.4,1.43a1.91,1.91,0,0,1,.58,1.4,1.91,1.91,0,0,1-.58,1.4L9.25,21ZM18.45,9,17,7.55Zm-12,3A5.31,5.31,0,0,0,4.9,8.1,5.31,5.31,0,0,0,1,6.5,5.31,5.31,0,0,0,4.9,4.9,5.31,5.31,0,0,0,6.5,1,5.31,5.31,0,0,0,8.1,4.9,5.31,5.31,0,0,0,12,6.5,5.46,5.46,0,0,0,6.5,12Z\"/>\n",
              "  </svg>\n",
              "    </button>\n",
              "    <script>\n",
              "      (() => {\n",
              "      const buttonEl =\n",
              "        document.querySelector('#id_061cf9a5-b840-41d4-b9eb-6083ad0249e0 button.colab-df-generate');\n",
              "      buttonEl.style.display =\n",
              "        google.colab.kernel.accessAllowed ? 'block' : 'none';\n",
              "\n",
              "      buttonEl.onclick = () => {\n",
              "        google.colab.notebook.generateWithVariable('data');\n",
              "      }\n",
              "      })();\n",
              "    </script>\n",
              "  </div>\n",
              "\n",
              "    </div>\n",
              "  </div>\n"
            ],
            "text/plain": [
              "        TV  Radio  Newspaper  Sales\n",
              "0    230.1   37.8       69.2   22.1\n",
              "1     44.5   39.3       45.1   10.4\n",
              "2     17.2   45.9       69.3   12.0\n",
              "3    151.5   41.3       58.5   16.5\n",
              "4    180.8   10.8       58.4   17.9\n",
              "..     ...    ...        ...    ...\n",
              "195   38.2    3.7       13.8    7.6\n",
              "196   94.2    4.9        8.1   14.0\n",
              "197  177.0    9.3        6.4   14.8\n",
              "198  283.6   42.0       66.2   25.5\n",
              "199  232.1    8.6        8.7   18.4\n",
              "\n",
              "[200 rows x 4 columns]"
            ]
          },
          "execution_count": 8,
          "metadata": {},
          "output_type": "execute_result"
        }
      ],
      "source": [
        "data = pd.read_csv(\"./advertising.csv\")\n",
        "data"
      ]
    },
    {
      "cell_type": "code",
      "execution_count": 9,
      "metadata": {
        "colab": {
          "base_uri": "https://localhost:8080/"
        },
        "id": "JdiA6jtunUuV",
        "outputId": "3579a030-2ee5-46ea-cc9b-b5a8a879cf7a"
      },
      "outputs": [
        {
          "data": {
            "text/plain": [
              "(      TV  Radio  Newspaper  Sales\n",
              " 0  230.1   37.8       69.2   22.1\n",
              " 1   44.5   39.3       45.1   10.4\n",
              " 2   17.2   45.9       69.3   12.0\n",
              " 3  151.5   41.3       58.5   16.5\n",
              " 4  180.8   10.8       58.4   17.9,\n",
              "         TV  Radio  Newspaper  Sales\n",
              " 195   38.2    3.7       13.8    7.6\n",
              " 196   94.2    4.9        8.1   14.0\n",
              " 197  177.0    9.3        6.4   14.8\n",
              " 198  283.6   42.0       66.2   25.5\n",
              " 199  232.1    8.6        8.7   18.4)"
            ]
          },
          "execution_count": 9,
          "metadata": {},
          "output_type": "execute_result"
        }
      ],
      "source": [
        "data.head(5), data.tail(5)"
      ]
    },
    {
      "cell_type": "code",
      "execution_count": 10,
      "metadata": {
        "colab": {
          "base_uri": "https://localhost:8080/"
        },
        "id": "IM1znMCfnZWI",
        "outputId": "234e911e-1153-41e5-acbe-81221d1d8f63"
      },
      "outputs": [
        {
          "name": "stdout",
          "output_type": "stream",
          "text": [
            "<class 'pandas.core.frame.DataFrame'>\n",
            "RangeIndex: 200 entries, 0 to 199\n",
            "Data columns (total 4 columns):\n",
            " #   Column     Non-Null Count  Dtype  \n",
            "---  ------     --------------  -----  \n",
            " 0   TV         200 non-null    float64\n",
            " 1   Radio      200 non-null    float64\n",
            " 2   Newspaper  200 non-null    float64\n",
            " 3   Sales      200 non-null    float64\n",
            "dtypes: float64(4)\n",
            "memory usage: 6.4 KB\n"
          ]
        }
      ],
      "source": [
        "data.info()"
      ]
    },
    {
      "cell_type": "code",
      "execution_count": 12,
      "metadata": {
        "id": "Tbebi-Tdnb9s"
      },
      "outputs": [],
      "source": [
        "def correlation(x, y):\n",
        "  x_mean = np.mean(x)\n",
        "  y_mean = np.mean(y)\n",
        "\n",
        "  numerator = np.sum((x - x_mean) * (y - y_mean))\n",
        "  denominator = np.sqrt(np.sum((x - x_mean)**2) * np.sum((y - y_mean)**2))\n",
        "\n",
        "  if denominator == 0:\n",
        "    return 0  # Handle cases where the denominator is zero\n",
        "\n",
        "  return numerator / denominator"
      ]
    },
    {
      "cell_type": "code",
      "execution_count": 13,
      "metadata": {
        "colab": {
          "base_uri": "https://localhost:8080/"
        },
        "id": "C5u_Z5ZSnd7c",
        "outputId": "10b65624-bd34-45ef-8626-b7ec5b1bc66f"
      },
      "outputs": [
        {
          "name": "stdout",
          "output_type": "stream",
          "text": [
            "0.35\n"
          ]
        }
      ],
      "source": [
        "x = data['Radio']\n",
        "y = data['Newspaper']\n",
        "\n",
        "result = correlation(x, y)\n",
        "print(round(result, 2))"
      ]
    },
    {
      "cell_type": "code",
      "execution_count": 15,
      "metadata": {
        "colab": {
          "base_uri": "https://localhost:8080/"
        },
        "id": "KTh63wLKVH9B",
        "outputId": "4435890c-cc38-44e3-cdb2-c57a474c336e"
      },
      "outputs": [
        {
          "name": "stdout",
          "output_type": "stream",
          "text": [
            "Correlation between TV and Sales: 0.05\n"
          ]
        }
      ],
      "source": [
        "# question 5\n",
        "\n",
        "x = data['TV']\n",
        "y = data['Radio']\n",
        "\n",
        "corr_xy = correlation(x, y)\n",
        "print(f\"Correlation between TV and Sales: {round(corr_xy, 2)}\")"
      ]
    },
    {
      "cell_type": "code",
      "execution_count": 16,
      "metadata": {
        "colab": {
          "base_uri": "https://localhost:8080/"
        },
        "id": "zczbHZfWngM2",
        "outputId": "e0fe2e13-750d-4e43-f689-716256bdec71"
      },
      "outputs": [
        {
          "name": "stdout",
          "output_type": "stream",
          "text": [
            "TV and TV: 1.0\n",
            "TV and Radio: 0.05\n",
            "TV and Newspaper: 0.06\n",
            "Radio and TV: 0.05\n",
            "Radio and Radio: 1.0\n",
            "Radio and Newspaper: 0.35\n",
            "Newspaper and TV: 0.06\n",
            "Newspaper and Radio: 0.35\n",
            "Newspaper and Newspaper: 1.0\n"
          ]
        }
      ],
      "source": [
        "# question 6\n",
        "features = ['TV', 'Radio', 'Newspaper']\n",
        "\n",
        "for feature_1 in features:\n",
        "  for feature_2 in features:\n",
        "      correlation_value = correlation(data[feature_1], data[feature_2])\n",
        "      print(f\"{feature_1} and {feature_2}: {round(correlation_value, 2)}\")"
      ]
    },
    {
      "cell_type": "code",
      "execution_count": 18,
      "metadata": {
        "colab": {
          "base_uri": "https://localhost:8080/"
        },
        "id": "nyOj4GfAnie_",
        "outputId": "51f71c62-0029-45d2-f77d-5dabd43c3a64"
      },
      "outputs": [
        {
          "name": "stdout",
          "output_type": "stream",
          "text": [
            "[[1.         0.35410375]\n",
            " [0.35410375 1.        ]]\n"
          ]
        }
      ],
      "source": [
        "# question 7\n",
        "\n",
        "x = data['Radio']\n",
        "y = data['Newspaper']\n",
        "\n",
        "result = np.corrcoef(x, y)\n",
        "print(result)"
      ]
    },
    {
      "cell_type": "code",
      "execution_count": 19,
      "metadata": {
        "colab": {
          "base_uri": "https://localhost:8080/",
          "height": 175
        },
        "id": "ZsiU8hGonlVk",
        "outputId": "2580b236-7ae2-4fe9-faca-82bc820f4e32"
      },
      "outputs": [
        {
          "data": {
            "application/vnd.google.colaboratory.intrinsic+json": {
              "summary": "{\n  \"name\": \"data_corr_coef\",\n  \"rows\": 4,\n  \"fields\": [\n    {\n      \"column\": \"TV\",\n      \"properties\": {\n        \"dtype\": \"number\",\n        \"std\": 0.5182290756712874,\n        \"min\": 0.05480866446583008,\n        \"max\": 1.0,\n        \"num_unique_values\": 4,\n        \"samples\": [\n          0.05480866446583008,\n          0.9012079133023315,\n          1.0\n        ],\n        \"semantic_type\": \"\",\n        \"description\": \"\"\n      }\n    },\n    {\n      \"column\": \"Radio\",\n      \"properties\": {\n        \"dtype\": \"number\",\n        \"std\": 0.39896388261461313,\n        \"min\": 0.05480866446583008,\n        \"max\": 1.0,\n        \"num_unique_values\": 4,\n        \"samples\": [\n          1.0,\n          0.34963109700766926,\n          0.05480866446583008\n        ],\n        \"semantic_type\": \"\",\n        \"description\": \"\"\n      }\n    },\n    {\n      \"column\": \"Newspaper\",\n      \"properties\": {\n        \"dtype\": \"number\",\n        \"std\": 0.42360978750776684,\n        \"min\": 0.05664787496505698,\n        \"max\": 1.0,\n        \"num_unique_values\": 4,\n        \"samples\": [\n          0.35410375076117534,\n          0.15796002615492621,\n          0.05664787496505698\n        ],\n        \"semantic_type\": \"\",\n        \"description\": \"\"\n      }\n    },\n    {\n      \"column\": \"Sales\",\n      \"properties\": {\n        \"dtype\": \"number\",\n        \"std\": 0.4118214731886475,\n        \"min\": 0.15796002615492621,\n        \"max\": 1.0,\n        \"num_unique_values\": 4,\n        \"samples\": [\n          0.34963109700766926,\n          1.0,\n          0.9012079133023315\n        ],\n        \"semantic_type\": \"\",\n        \"description\": \"\"\n      }\n    }\n  ]\n}",
              "type": "dataframe",
              "variable_name": "data_corr_coef"
            },
            "text/html": [
              "\n",
              "  <div id=\"df-9be7c231-4e09-4766-9822-15940e9841ed\" class=\"colab-df-container\">\n",
              "    <div>\n",
              "<style scoped>\n",
              "    .dataframe tbody tr th:only-of-type {\n",
              "        vertical-align: middle;\n",
              "    }\n",
              "\n",
              "    .dataframe tbody tr th {\n",
              "        vertical-align: top;\n",
              "    }\n",
              "\n",
              "    .dataframe thead th {\n",
              "        text-align: right;\n",
              "    }\n",
              "</style>\n",
              "<table border=\"1\" class=\"dataframe\">\n",
              "  <thead>\n",
              "    <tr style=\"text-align: right;\">\n",
              "      <th></th>\n",
              "      <th>TV</th>\n",
              "      <th>Radio</th>\n",
              "      <th>Newspaper</th>\n",
              "      <th>Sales</th>\n",
              "    </tr>\n",
              "  </thead>\n",
              "  <tbody>\n",
              "    <tr>\n",
              "      <th>TV</th>\n",
              "      <td>1.000000</td>\n",
              "      <td>0.054809</td>\n",
              "      <td>0.056648</td>\n",
              "      <td>0.901208</td>\n",
              "    </tr>\n",
              "    <tr>\n",
              "      <th>Radio</th>\n",
              "      <td>0.054809</td>\n",
              "      <td>1.000000</td>\n",
              "      <td>0.354104</td>\n",
              "      <td>0.349631</td>\n",
              "    </tr>\n",
              "    <tr>\n",
              "      <th>Newspaper</th>\n",
              "      <td>0.056648</td>\n",
              "      <td>0.354104</td>\n",
              "      <td>1.000000</td>\n",
              "      <td>0.157960</td>\n",
              "    </tr>\n",
              "    <tr>\n",
              "      <th>Sales</th>\n",
              "      <td>0.901208</td>\n",
              "      <td>0.349631</td>\n",
              "      <td>0.157960</td>\n",
              "      <td>1.000000</td>\n",
              "    </tr>\n",
              "  </tbody>\n",
              "</table>\n",
              "</div>\n",
              "    <div class=\"colab-df-buttons\">\n",
              "\n",
              "  <div class=\"colab-df-container\">\n",
              "    <button class=\"colab-df-convert\" onclick=\"convertToInteractive('df-9be7c231-4e09-4766-9822-15940e9841ed')\"\n",
              "            title=\"Convert this dataframe to an interactive table.\"\n",
              "            style=\"display:none;\">\n",
              "\n",
              "  <svg xmlns=\"http://www.w3.org/2000/svg\" height=\"24px\" viewBox=\"0 -960 960 960\">\n",
              "    <path d=\"M120-120v-720h720v720H120Zm60-500h600v-160H180v160Zm220 220h160v-160H400v160Zm0 220h160v-160H400v160ZM180-400h160v-160H180v160Zm440 0h160v-160H620v160ZM180-180h160v-160H180v160Zm440 0h160v-160H620v160Z\"/>\n",
              "  </svg>\n",
              "    </button>\n",
              "\n",
              "  <style>\n",
              "    .colab-df-container {\n",
              "      display:flex;\n",
              "      gap: 12px;\n",
              "    }\n",
              "\n",
              "    .colab-df-convert {\n",
              "      background-color: #E8F0FE;\n",
              "      border: none;\n",
              "      border-radius: 50%;\n",
              "      cursor: pointer;\n",
              "      display: none;\n",
              "      fill: #1967D2;\n",
              "      height: 32px;\n",
              "      padding: 0 0 0 0;\n",
              "      width: 32px;\n",
              "    }\n",
              "\n",
              "    .colab-df-convert:hover {\n",
              "      background-color: #E2EBFA;\n",
              "      box-shadow: 0px 1px 2px rgba(60, 64, 67, 0.3), 0px 1px 3px 1px rgba(60, 64, 67, 0.15);\n",
              "      fill: #174EA6;\n",
              "    }\n",
              "\n",
              "    .colab-df-buttons div {\n",
              "      margin-bottom: 4px;\n",
              "    }\n",
              "\n",
              "    [theme=dark] .colab-df-convert {\n",
              "      background-color: #3B4455;\n",
              "      fill: #D2E3FC;\n",
              "    }\n",
              "\n",
              "    [theme=dark] .colab-df-convert:hover {\n",
              "      background-color: #434B5C;\n",
              "      box-shadow: 0px 1px 3px 1px rgba(0, 0, 0, 0.15);\n",
              "      filter: drop-shadow(0px 1px 2px rgba(0, 0, 0, 0.3));\n",
              "      fill: #FFFFFF;\n",
              "    }\n",
              "  </style>\n",
              "\n",
              "    <script>\n",
              "      const buttonEl =\n",
              "        document.querySelector('#df-9be7c231-4e09-4766-9822-15940e9841ed button.colab-df-convert');\n",
              "      buttonEl.style.display =\n",
              "        google.colab.kernel.accessAllowed ? 'block' : 'none';\n",
              "\n",
              "      async function convertToInteractive(key) {\n",
              "        const element = document.querySelector('#df-9be7c231-4e09-4766-9822-15940e9841ed');\n",
              "        const dataTable =\n",
              "          await google.colab.kernel.invokeFunction('convertToInteractive',\n",
              "                                                    [key], {});\n",
              "        if (!dataTable) return;\n",
              "\n",
              "        const docLinkHtml = 'Like what you see? Visit the ' +\n",
              "          '<a target=\"_blank\" href=https://colab.research.google.com/notebooks/data_table.ipynb>data table notebook</a>'\n",
              "          + ' to learn more about interactive tables.';\n",
              "        element.innerHTML = '';\n",
              "        dataTable['output_type'] = 'display_data';\n",
              "        await google.colab.output.renderOutput(dataTable, element);\n",
              "        const docLink = document.createElement('div');\n",
              "        docLink.innerHTML = docLinkHtml;\n",
              "        element.appendChild(docLink);\n",
              "      }\n",
              "    </script>\n",
              "  </div>\n",
              "\n",
              "\n",
              "<div id=\"df-f0a73669-32e6-40d8-acc0-76405b4d4b55\">\n",
              "  <button class=\"colab-df-quickchart\" onclick=\"quickchart('df-f0a73669-32e6-40d8-acc0-76405b4d4b55')\"\n",
              "            title=\"Suggest charts\"\n",
              "            style=\"display:none;\">\n",
              "\n",
              "<svg xmlns=\"http://www.w3.org/2000/svg\" height=\"24px\"viewBox=\"0 0 24 24\"\n",
              "     width=\"24px\">\n",
              "    <g>\n",
              "        <path d=\"M19 3H5c-1.1 0-2 .9-2 2v14c0 1.1.9 2 2 2h14c1.1 0 2-.9 2-2V5c0-1.1-.9-2-2-2zM9 17H7v-7h2v7zm4 0h-2V7h2v10zm4 0h-2v-4h2v4z\"/>\n",
              "    </g>\n",
              "</svg>\n",
              "  </button>\n",
              "\n",
              "<style>\n",
              "  .colab-df-quickchart {\n",
              "      --bg-color: #E8F0FE;\n",
              "      --fill-color: #1967D2;\n",
              "      --hover-bg-color: #E2EBFA;\n",
              "      --hover-fill-color: #174EA6;\n",
              "      --disabled-fill-color: #AAA;\n",
              "      --disabled-bg-color: #DDD;\n",
              "  }\n",
              "\n",
              "  [theme=dark] .colab-df-quickchart {\n",
              "      --bg-color: #3B4455;\n",
              "      --fill-color: #D2E3FC;\n",
              "      --hover-bg-color: #434B5C;\n",
              "      --hover-fill-color: #FFFFFF;\n",
              "      --disabled-bg-color: #3B4455;\n",
              "      --disabled-fill-color: #666;\n",
              "  }\n",
              "\n",
              "  .colab-df-quickchart {\n",
              "    background-color: var(--bg-color);\n",
              "    border: none;\n",
              "    border-radius: 50%;\n",
              "    cursor: pointer;\n",
              "    display: none;\n",
              "    fill: var(--fill-color);\n",
              "    height: 32px;\n",
              "    padding: 0;\n",
              "    width: 32px;\n",
              "  }\n",
              "\n",
              "  .colab-df-quickchart:hover {\n",
              "    background-color: var(--hover-bg-color);\n",
              "    box-shadow: 0 1px 2px rgba(60, 64, 67, 0.3), 0 1px 3px 1px rgba(60, 64, 67, 0.15);\n",
              "    fill: var(--button-hover-fill-color);\n",
              "  }\n",
              "\n",
              "  .colab-df-quickchart-complete:disabled,\n",
              "  .colab-df-quickchart-complete:disabled:hover {\n",
              "    background-color: var(--disabled-bg-color);\n",
              "    fill: var(--disabled-fill-color);\n",
              "    box-shadow: none;\n",
              "  }\n",
              "\n",
              "  .colab-df-spinner {\n",
              "    border: 2px solid var(--fill-color);\n",
              "    border-color: transparent;\n",
              "    border-bottom-color: var(--fill-color);\n",
              "    animation:\n",
              "      spin 1s steps(1) infinite;\n",
              "  }\n",
              "\n",
              "  @keyframes spin {\n",
              "    0% {\n",
              "      border-color: transparent;\n",
              "      border-bottom-color: var(--fill-color);\n",
              "      border-left-color: var(--fill-color);\n",
              "    }\n",
              "    20% {\n",
              "      border-color: transparent;\n",
              "      border-left-color: var(--fill-color);\n",
              "      border-top-color: var(--fill-color);\n",
              "    }\n",
              "    30% {\n",
              "      border-color: transparent;\n",
              "      border-left-color: var(--fill-color);\n",
              "      border-top-color: var(--fill-color);\n",
              "      border-right-color: var(--fill-color);\n",
              "    }\n",
              "    40% {\n",
              "      border-color: transparent;\n",
              "      border-right-color: var(--fill-color);\n",
              "      border-top-color: var(--fill-color);\n",
              "    }\n",
              "    60% {\n",
              "      border-color: transparent;\n",
              "      border-right-color: var(--fill-color);\n",
              "    }\n",
              "    80% {\n",
              "      border-color: transparent;\n",
              "      border-right-color: var(--fill-color);\n",
              "      border-bottom-color: var(--fill-color);\n",
              "    }\n",
              "    90% {\n",
              "      border-color: transparent;\n",
              "      border-bottom-color: var(--fill-color);\n",
              "    }\n",
              "  }\n",
              "</style>\n",
              "\n",
              "  <script>\n",
              "    async function quickchart(key) {\n",
              "      const quickchartButtonEl =\n",
              "        document.querySelector('#' + key + ' button');\n",
              "      quickchartButtonEl.disabled = true;  // To prevent multiple clicks.\n",
              "      quickchartButtonEl.classList.add('colab-df-spinner');\n",
              "      try {\n",
              "        const charts = await google.colab.kernel.invokeFunction(\n",
              "            'suggestCharts', [key], {});\n",
              "      } catch (error) {\n",
              "        console.error('Error during call to suggestCharts:', error);\n",
              "      }\n",
              "      quickchartButtonEl.classList.remove('colab-df-spinner');\n",
              "      quickchartButtonEl.classList.add('colab-df-quickchart-complete');\n",
              "    }\n",
              "    (() => {\n",
              "      let quickchartButtonEl =\n",
              "        document.querySelector('#df-f0a73669-32e6-40d8-acc0-76405b4d4b55 button');\n",
              "      quickchartButtonEl.style.display =\n",
              "        google.colab.kernel.accessAllowed ? 'block' : 'none';\n",
              "    })();\n",
              "  </script>\n",
              "</div>\n",
              "\n",
              "  <div id=\"id_62cdcb4d-ba8e-47df-b3fc-0bbb6c2c9a23\">\n",
              "    <style>\n",
              "      .colab-df-generate {\n",
              "        background-color: #E8F0FE;\n",
              "        border: none;\n",
              "        border-radius: 50%;\n",
              "        cursor: pointer;\n",
              "        display: none;\n",
              "        fill: #1967D2;\n",
              "        height: 32px;\n",
              "        padding: 0 0 0 0;\n",
              "        width: 32px;\n",
              "      }\n",
              "\n",
              "      .colab-df-generate:hover {\n",
              "        background-color: #E2EBFA;\n",
              "        box-shadow: 0px 1px 2px rgba(60, 64, 67, 0.3), 0px 1px 3px 1px rgba(60, 64, 67, 0.15);\n",
              "        fill: #174EA6;\n",
              "      }\n",
              "\n",
              "      [theme=dark] .colab-df-generate {\n",
              "        background-color: #3B4455;\n",
              "        fill: #D2E3FC;\n",
              "      }\n",
              "\n",
              "      [theme=dark] .colab-df-generate:hover {\n",
              "        background-color: #434B5C;\n",
              "        box-shadow: 0px 1px 3px 1px rgba(0, 0, 0, 0.15);\n",
              "        filter: drop-shadow(0px 1px 2px rgba(0, 0, 0, 0.3));\n",
              "        fill: #FFFFFF;\n",
              "      }\n",
              "    </style>\n",
              "    <button class=\"colab-df-generate\" onclick=\"generateWithVariable('data_corr_coef')\"\n",
              "            title=\"Generate code using this dataframe.\"\n",
              "            style=\"display:none;\">\n",
              "\n",
              "  <svg xmlns=\"http://www.w3.org/2000/svg\" height=\"24px\"viewBox=\"0 0 24 24\"\n",
              "       width=\"24px\">\n",
              "    <path d=\"M7,19H8.4L18.45,9,17,7.55,7,17.6ZM5,21V16.75L18.45,3.32a2,2,0,0,1,2.83,0l1.4,1.43a1.91,1.91,0,0,1,.58,1.4,1.91,1.91,0,0,1-.58,1.4L9.25,21ZM18.45,9,17,7.55Zm-12,3A5.31,5.31,0,0,0,4.9,8.1,5.31,5.31,0,0,0,1,6.5,5.31,5.31,0,0,0,4.9,4.9,5.31,5.31,0,0,0,6.5,1,5.31,5.31,0,0,0,8.1,4.9,5.31,5.31,0,0,0,12,6.5,5.46,5.46,0,0,0,6.5,12Z\"/>\n",
              "  </svg>\n",
              "    </button>\n",
              "    <script>\n",
              "      (() => {\n",
              "      const buttonEl =\n",
              "        document.querySelector('#id_62cdcb4d-ba8e-47df-b3fc-0bbb6c2c9a23 button.colab-df-generate');\n",
              "      buttonEl.style.display =\n",
              "        google.colab.kernel.accessAllowed ? 'block' : 'none';\n",
              "\n",
              "      buttonEl.onclick = () => {\n",
              "        google.colab.notebook.generateWithVariable('data_corr_coef');\n",
              "      }\n",
              "      })();\n",
              "    </script>\n",
              "  </div>\n",
              "\n",
              "    </div>\n",
              "  </div>\n"
            ],
            "text/plain": [
              "                 TV     Radio  Newspaper     Sales\n",
              "TV         1.000000  0.054809   0.056648  0.901208\n",
              "Radio      0.054809  1.000000   0.354104  0.349631\n",
              "Newspaper  0.056648  0.354104   1.000000  0.157960\n",
              "Sales      0.901208  0.349631   0.157960  1.000000"
            ]
          },
          "execution_count": 19,
          "metadata": {},
          "output_type": "execute_result"
        }
      ],
      "source": [
        "# question 8\n",
        "# Calculate the correlation matrix\n",
        "data_corr_coef = data.corr()\n",
        "data_corr_coef"
      ]
    },
    {
      "cell_type": "code",
      "execution_count": 20,
      "metadata": {
        "colab": {
          "base_uri": "https://localhost:8080/",
          "height": 682
        },
        "id": "u8pCY0nlno8D",
        "outputId": "08509351-f6d4-46bb-c438-2ca45fcd5390"
      },
      "outputs": [
        {
          "data": {
            "image/png": "[encoded data removed]",
            "text/plain": [
              "<Figure size 1000x800 with 2 Axes>"
            ]
          },
          "metadata": {},
          "output_type": "display_data"
        }
      ],
      "source": [
        "# question 9\n",
        "plt.figure(figsize=(10,8))\n",
        "sns.heatmap(data_corr_coef, annot=True, fmt=\".2f\", linewidth=.5)\n",
        "plt.show()"
      ]
    },
    {
      "cell_type": "markdown",
      "metadata": {
        "id": "AMLPbmtlmn_q"
      },
      "source": [
        "#**III. Text Retrieval**"
      ]
    },
    {
      "cell_type": "code",
      "execution_count": 21,
      "metadata": {
        "id": "F_RG89NVbXzg"
      },
      "outputs": [],
      "source": [
        "import pandas as pd\n",
        "import numpy as np\n",
        "from sklearn.metrics.pairwise import cosine_similarity\n",
        "from sklearn.feature_extraction.text import TfidfVectorizer"
      ]
    },
    {
      "cell_type": "code",
      "execution_count": 22,
      "metadata": {
        "colab": {
          "base_uri": "https://localhost:8080/"
        },
        "id": "Pd3Ti9glgMpR",
        "outputId": "1b9fa823-3081-4524-e71a-3e5a47726d7c"
      },
      "outputs": [
        {
          "name": "stdout",
          "output_type": "stream",
          "text": [
            "Downloading...\n",
            "From: https://drive.google.com/uc?id=1jh2p2DlaWsDo_vEWIcTrNh3mUuXd-cw6\n",
            "To: /content/vi_text_retrieval.csv\n",
            "\r  0% 0.00/201k [00:00<?, ?B/s]\r100% 201k/201k [00:00<00:00, 79.7MB/s]\n"
          ]
        }
      ],
      "source": [
        "!gdown 1jh2p2DlaWsDo_vEWIcTrNh3mUuXd-cw6"
      ]
    },
    {
      "cell_type": "markdown",
      "metadata": {
        "id": "Co9UkVavbwnj"
      },
      "source": [
        "##**TF-IDF**"
      ]
    },
    {
      "cell_type": "code",
      "execution_count": null,
      "metadata": {
        "id": "pwNe_Q8Ab4w-"
      },
      "outputs": [],
      "source": [
        "vi_data_df = pd.read_csv(\"./vi_text_retrieval.csv\")"
      ]
    },
    {
      "cell_type": "code",
      "execution_count": null,
      "metadata": {
        "colab": {
          "base_uri": "https://localhost:8080/",
          "height": 597
        },
        "id": "Mn-PALoScGu_",
        "outputId": "f138f115-e013-4cbf-8425-acd9bf67be51"
      },
      "outputs": [
        {
          "data": {
            "application/vnd.google.colaboratory.intrinsic+json": {
              "summary": "{\n  \"name\": \"vi_data_df\",\n  \"rows\": 500,\n  \"fields\": [\n    {\n      \"column\": \"id\",\n      \"properties\": {\n        \"dtype\": \"number\",\n        \"std\": 357950,\n        \"min\": 1569485573,\n        \"max\": 1570446247,\n        \"num_unique_values\": 500,\n        \"samples\": [\n          1569590998,\n          1570375367,\n          1569590542\n        ],\n        \"semantic_type\": \"\",\n        \"description\": \"\"\n      }\n    },\n    {\n      \"column\": \"question\",\n      \"properties\": {\n        \"dtype\": \"string\",\n        \"num_unique_values\": 500,\n        \"samples\": [\n          \"Karl Heinrich Marx l\\u00e0 ai\",\n          \"Yoona sinh ng\\u00e0y m\\u1ea5y\",\n          \"D\\u1ea5u hi\\u1ec7u c\\u1ee7a b\\u1ec7nh r\\u1ed1i lo\\u1ea1n \\u00e1m \\u1ea3nh c\\u01b0\\u1ee1ng ch\\u1ebf\"\n        ],\n        \"semantic_type\": \"\",\n        \"description\": \"\"\n      }\n    },\n    {\n      \"column\": \"text\",\n      \"properties\": {\n        \"dtype\": \"string\",\n        \"num_unique_values\": 442,\n        \"samples\": [\n          \"Tr\\u00ean \\u0111\\u1ec9nh n\\u00fai th\\u01b0\\u1eddng c\\u00f3 m\\u00e2y bao ph\\u1ee7 n\\u00ean ng\\u00e0y tr\\u01b0\\u1edbc c\\u00f3 t\\u00ean g\\u1ecdi l\\u00e0 B\\u1ea1ch V\\u00e2n s\\u01a1n . T\\u1ed5ng chi\\u1ec1u d\\u00e0i \\u0111\\u01b0\\u1eddng b\\u1ed9 \\u0111\\u1ec3 l\\u00ean \\u0111\\u1ec9nh Y\\u00ean T\\u1eed ( ch\\u00f9a \\u0110\\u1ed3ng ) l\\u00e0 kho\\u1ea3ng 6000m v\\u1edbi 6 gi\\u1edd \\u0111i b\\u1ed9 li\\u00ean t\\u1ee5c qua h\\u00e0ng ng\\u00e0n b\\u1eadc \\u0111\\u00e1 , \\u0111\\u01b0\\u1eddng r\\u1eebng n\\u00fai ...\",\n          \"Hi\\u1ec7n nay Lu\\u1eadt b\\u00f3ng \\u0111\\u00e1 ch\\u00ednh th\\u1ee9c c\\u00f3 17 \\u0111i\\u1ec1u \\u0111\\u01b0\\u1ee3c \\u00e1p d\\u1ee5ng cho m\\u1ecdi c\\u1ea5p \\u0111\\u1ed9 ch\\u01a1i b\\u00f3ng v\\u00e0 ch\\u1ec9 c\\u00f3 m\\u1ed9t v\\u00e0i s\\u1eeda \\u0111\\u1ed5i nh\\u1ecf cho ph\\u00f9 h\\u1ee3p v\\u1edbi b\\u00f3ng \\u0111\\u00e1 n\\u1eef v\\u00e0 b\\u00f3ng \\u0111\\u00e1 tr\\u1ebb .\",\n          \"Ng\\u00f4n ng\\u1eef l\\u1eadp tr\\u00ecnh l\\u00e0 m\\u1ed9t t\\u1eadp con c\\u1ee7a ng\\u00f4n ng\\u1eef m\\u00e1y t\\u00ednh , \\u0111\\u01b0\\u1ee3c thi\\u1ebft k\\u1ebf v\\u00e0 chu\\u1ea9n ho\\u00e1 \\u0111\\u1ec3 truy\\u1ec1n c\\u00e1c ch\\u1ec9 th\\u1ecb cho c\\u00e1c m\\u00e1y c\\u00f3 b\\u1ed9 x\\u1eed l\\u00fd ( CPU ) , n\\u00f3i ri\\u00eang l\\u00e0 m\\u00e1y t\\u00ednh . Ng\\u00f4n ng\\u1eef l\\u1eadp tr\\u00ecnh \\u0111\\u01b0\\u1ee3c d\\u00f9ng \\u0111\\u1ec3 l\\u1eadp tr\\u00ecnh m\\u00e1y t\\u00ednh , t\\u1ea1o ra c\\u00e1c ch\\u01b0\\u01a1ng tr\\u00ecnh m\\u00e1y nh\\u1eb1m m\\u1ee5c \\u0111\\u00edch \\u0111i\\u1ec1u khi\\u1ec3n m\\u00e1y t\\u00ednh ho\\u1eb7c m\\u00f4 t\\u1ea3 c\\u00e1c thu\\u1eadt to\\u00e1n \\u0111\\u1ec3 ng\\u01b0\\u1eddi kh\\u00e1c \\u0111\\u1ecdc hi\\u1ec3u .\"\n        ],\n        \"semantic_type\": \"\",\n        \"description\": \"\"\n      }\n    }\n  ]\n}",
              "type": "dataframe",
              "variable_name": "vi_data_df"
            },
            "text/html": [
              "\n",
              "  <div id=\"df-2f6c5261-4201-4417-ac20-40a7fcaa4aff\" class=\"colab-df-container\">\n",
              "    <div>\n",
              "<style scoped>\n",
              "    .dataframe tbody tr th:only-of-type {\n",
              "        vertical-align: middle;\n",
              "    }\n",
              "\n",
              "    .dataframe tbody tr th {\n",
              "        vertical-align: top;\n",
              "    }\n",
              "\n",
              "    .dataframe thead th {\n",
              "        text-align: right;\n",
              "    }\n",
              "</style>\n",
              "<table border=\"1\" class=\"dataframe\">\n",
              "  <thead>\n",
              "    <tr style=\"text-align: right;\">\n",
              "      <th></th>\n",
              "      <th>id</th>\n",
              "      <th>question</th>\n",
              "      <th>text</th>\n",
              "    </tr>\n",
              "  </thead>\n",
              "  <tbody>\n",
              "    <tr>\n",
              "      <th>0</th>\n",
              "      <td>1570446247</td>\n",
              "      <td>Quang Hải giành được chức vô địch U21 quốc gia...</td>\n",
              "      <td>Năm 2013 , Nguyễn Quang Hải giành chức vô địch...</td>\n",
              "    </tr>\n",
              "    <tr>\n",
              "      <th>1</th>\n",
              "      <td>1570445661</td>\n",
              "      <td>Mỗi hiệp bóng đá kéo dài bao lâu</td>\n",
              "      <td>Một trận đấu bóng đá thông thường có hai hiệp ...</td>\n",
              "    </tr>\n",
              "    <tr>\n",
              "      <th>2</th>\n",
              "      <td>1570382095</td>\n",
              "      <td>Quân đội Hoa Kỳ gồm những lực lượng nào</td>\n",
              "      <td>Quân đội Hoa Kỳ hay Các lực lượng vũ trang Hoa...</td>\n",
              "    </tr>\n",
              "    <tr>\n",
              "      <th>3</th>\n",
              "      <td>1570382072</td>\n",
              "      <td>Ngọc Lan là ai</td>\n",
              "      <td>Ngọc Lan ( 28 tháng 12 năm 1956 - 6 tháng 3 20...</td>\n",
              "    </tr>\n",
              "    <tr>\n",
              "      <th>4</th>\n",
              "      <td>1570382037</td>\n",
              "      <td>Thu Phương từng được những giải thưởng nào</td>\n",
              "      <td>Cô được coi là một trong những ca sĩ thuộc thế...</td>\n",
              "    </tr>\n",
              "    <tr>\n",
              "      <th>...</th>\n",
              "      <td>...</td>\n",
              "      <td>...</td>\n",
              "      <td>...</td>\n",
              "    </tr>\n",
              "    <tr>\n",
              "      <th>495</th>\n",
              "      <td>1569486091</td>\n",
              "      <td>Dân số của Sóc Trăng đứng thứ mấy trong khu vự...</td>\n",
              "      <td>Sóc Trăng là một tỉnh ven biển thuộc đồng bằng...</td>\n",
              "    </tr>\n",
              "    <tr>\n",
              "      <th>496</th>\n",
              "      <td>1569486072</td>\n",
              "      <td>Các nguyên lý toán học của triết học tự nhiên ...</td>\n",
              "      <td>Đây là những điều cơ bản tiên quyết của cơ học...</td>\n",
              "    </tr>\n",
              "    <tr>\n",
              "      <th>497</th>\n",
              "      <td>1569486003</td>\n",
              "      <td>Biến đổi khí hậu Trái Đất là gì</td>\n",
              "      <td>Biến đổi khí hậu là những biến đổi trong môi t...</td>\n",
              "    </tr>\n",
              "    <tr>\n",
              "      <th>498</th>\n",
              "      <td>1569485614</td>\n",
              "      <td>Phanxicô Xaviê Trương Bửu Diệp mất vào năm nào</td>\n",
              "      <td>Phanxicô Xaviê Trương Bửu Diệp ( 1 tháng 1 năm...</td>\n",
              "    </tr>\n",
              "    <tr>\n",
              "      <th>499</th>\n",
              "      <td>1569485573</td>\n",
              "      <td>Mật độ dân số của vùng trung du và miền núi ph...</td>\n",
              "      <td>Vùng trung du miền núi phía bắc , trước năm 19...</td>\n",
              "    </tr>\n",
              "  </tbody>\n",
              "</table>\n",
              "<p>500 rows × 3 columns</p>\n",
              "</div>\n",
              "    <div class=\"colab-df-buttons\">\n",
              "\n",
              "  <div class=\"colab-df-container\">\n",
              "    <button class=\"colab-df-convert\" onclick=\"convertToInteractive('df-2f6c5261-4201-4417-ac20-40a7fcaa4aff')\"\n",
              "            title=\"Convert this dataframe to an interactive table.\"\n",
              "            style=\"display:none;\">\n",
              "\n",
              "  <svg xmlns=\"http://www.w3.org/2000/svg\" height=\"24px\" viewBox=\"0 -960 960 960\">\n",
              "    <path d=\"M120-120v-720h720v720H120Zm60-500h600v-160H180v160Zm220 220h160v-160H400v160Zm0 220h160v-160H400v160ZM180-400h160v-160H180v160Zm440 0h160v-160H620v160ZM180-180h160v-160H180v160Zm440 0h160v-160H620v160Z\"/>\n",
              "  </svg>\n",
              "    </button>\n",
              "\n",
              "  <style>\n",
              "    .colab-df-container {\n",
              "      display:flex;\n",
              "      gap: 12px;\n",
              "    }\n",
              "\n",
              "    .colab-df-convert {\n",
              "      background-color: #E8F0FE;\n",
              "      border: none;\n",
              "      border-radius: 50%;\n",
              "      cursor: pointer;\n",
              "      display: none;\n",
              "      fill: #1967D2;\n",
              "      height: 32px;\n",
              "      padding: 0 0 0 0;\n",
              "      width: 32px;\n",
              "    }\n",
              "\n",
              "    .colab-df-convert:hover {\n",
              "      background-color: #E2EBFA;\n",
              "      box-shadow: 0px 1px 2px rgba(60, 64, 67, 0.3), 0px 1px 3px 1px rgba(60, 64, 67, 0.15);\n",
              "      fill: #174EA6;\n",
              "    }\n",
              "\n",
              "    .colab-df-buttons div {\n",
              "      margin-bottom: 4px;\n",
              "    }\n",
              "\n",
              "    [theme=dark] .colab-df-convert {\n",
              "      background-color: #3B4455;\n",
              "      fill: #D2E3FC;\n",
              "    }\n",
              "\n",
              "    [theme=dark] .colab-df-convert:hover {\n",
              "      background-color: #434B5C;\n",
              "      box-shadow: 0px 1px 3px 1px rgba(0, 0, 0, 0.15);\n",
              "      filter: drop-shadow(0px 1px 2px rgba(0, 0, 0, 0.3));\n",
              "      fill: #FFFFFF;\n",
              "    }\n",
              "  </style>\n",
              "\n",
              "    <script>\n",
              "      const buttonEl =\n",
              "        document.querySelector('#df-2f6c5261-4201-4417-ac20-40a7fcaa4aff button.colab-df-convert');\n",
              "      buttonEl.style.display =\n",
              "        google.colab.kernel.accessAllowed ? 'block' : 'none';\n",
              "\n",
              "      async function convertToInteractive(key) {\n",
              "        const element = document.querySelector('#df-2f6c5261-4201-4417-ac20-40a7fcaa4aff');\n",
              "        const dataTable =\n",
              "          await google.colab.kernel.invokeFunction('convertToInteractive',\n",
              "                                                    [key], {});\n",
              "        if (!dataTable) return;\n",
              "\n",
              "        const docLinkHtml = 'Like what you see? Visit the ' +\n",
              "          '<a target=\"_blank\" href=https://colab.research.google.com/notebooks/data_table.ipynb>data table notebook</a>'\n",
              "          + ' to learn more about interactive tables.';\n",
              "        element.innerHTML = '';\n",
              "        dataTable['output_type'] = 'display_data';\n",
              "        await google.colab.output.renderOutput(dataTable, element);\n",
              "        const docLink = document.createElement('div');\n",
              "        docLink.innerHTML = docLinkHtml;\n",
              "        element.appendChild(docLink);\n",
              "      }\n",
              "    </script>\n",
              "  </div>\n",
              "\n",
              "\n",
              "<div id=\"df-6a5e4e9f-0608-4854-bcf8-123e98370dca\">\n",
              "  <button class=\"colab-df-quickchart\" onclick=\"quickchart('df-6a5e4e9f-0608-4854-bcf8-123e98370dca')\"\n",
              "            title=\"Suggest charts\"\n",
              "            style=\"display:none;\">\n",
              "\n",
              "<svg xmlns=\"http://www.w3.org/2000/svg\" height=\"24px\"viewBox=\"0 0 24 24\"\n",
              "     width=\"24px\">\n",
              "    <g>\n",
              "        <path d=\"M19 3H5c-1.1 0-2 .9-2 2v14c0 1.1.9 2 2 2h14c1.1 0 2-.9 2-2V5c0-1.1-.9-2-2-2zM9 17H7v-7h2v7zm4 0h-2V7h2v10zm4 0h-2v-4h2v4z\"/>\n",
              "    </g>\n",
              "</svg>\n",
              "  </button>\n",
              "\n",
              "<style>\n",
              "  .colab-df-quickchart {\n",
              "      --bg-color: #E8F0FE;\n",
              "      --fill-color: #1967D2;\n",
              "      --hover-bg-color: #E2EBFA;\n",
              "      --hover-fill-color: #174EA6;\n",
              "      --disabled-fill-color: #AAA;\n",
              "      --disabled-bg-color: #DDD;\n",
              "  }\n",
              "\n",
              "  [theme=dark] .colab-df-quickchart {\n",
              "      --bg-color: #3B4455;\n",
              "      --fill-color: #D2E3FC;\n",
              "      --hover-bg-color: #434B5C;\n",
              "      --hover-fill-color: #FFFFFF;\n",
              "      --disabled-bg-color: #3B4455;\n",
              "      --disabled-fill-color: #666;\n",
              "  }\n",
              "\n",
              "  .colab-df-quickchart {\n",
              "    background-color: var(--bg-color);\n",
              "    border: none;\n",
              "    border-radius: 50%;\n",
              "    cursor: pointer;\n",
              "    display: none;\n",
              "    fill: var(--fill-color);\n",
              "    height: 32px;\n",
              "    padding: 0;\n",
              "    width: 32px;\n",
              "  }\n",
              "\n",
              "  .colab-df-quickchart:hover {\n",
              "    background-color: var(--hover-bg-color);\n",
              "    box-shadow: 0 1px 2px rgba(60, 64, 67, 0.3), 0 1px 3px 1px rgba(60, 64, 67, 0.15);\n",
              "    fill: var(--button-hover-fill-color);\n",
              "  }\n",
              "\n",
              "  .colab-df-quickchart-complete:disabled,\n",
              "  .colab-df-quickchart-complete:disabled:hover {\n",
              "    background-color: var(--disabled-bg-color);\n",
              "    fill: var(--disabled-fill-color);\n",
              "    box-shadow: none;\n",
              "  }\n",
              "\n",
              "  .colab-df-spinner {\n",
              "    border: 2px solid var(--fill-color);\n",
              "    border-color: transparent;\n",
              "    border-bottom-color: var(--fill-color);\n",
              "    animation:\n",
              "      spin 1s steps(1) infinite;\n",
              "  }\n",
              "\n",
              "  @keyframes spin {\n",
              "    0% {\n",
              "      border-color: transparent;\n",
              "      border-bottom-color: var(--fill-color);\n",
              "      border-left-color: var(--fill-color);\n",
              "    }\n",
              "    20% {\n",
              "      border-color: transparent;\n",
              "      border-left-color: var(--fill-color);\n",
              "      border-top-color: var(--fill-color);\n",
              "    }\n",
              "    30% {\n",
              "      border-color: transparent;\n",
              "      border-left-color: var(--fill-color);\n",
              "      border-top-color: var(--fill-color);\n",
              "      border-right-color: var(--fill-color);\n",
              "    }\n",
              "    40% {\n",
              "      border-color: transparent;\n",
              "      border-right-color: var(--fill-color);\n",
              "      border-top-color: var(--fill-color);\n",
              "    }\n",
              "    60% {\n",
              "      border-color: transparent;\n",
              "      border-right-color: var(--fill-color);\n",
              "    }\n",
              "    80% {\n",
              "      border-color: transparent;\n",
              "      border-right-color: var(--fill-color);\n",
              "      border-bottom-color: var(--fill-color);\n",
              "    }\n",
              "    90% {\n",
              "      border-color: transparent;\n",
              "      border-bottom-color: var(--fill-color);\n",
              "    }\n",
              "  }\n",
              "</style>\n",
              "\n",
              "  <script>\n",
              "    async function quickchart(key) {\n",
              "      const quickchartButtonEl =\n",
              "        document.querySelector('#' + key + ' button');\n",
              "      quickchartButtonEl.disabled = true;  // To prevent multiple clicks.\n",
              "      quickchartButtonEl.classList.add('colab-df-spinner');\n",
              "      try {\n",
              "        const charts = await google.colab.kernel.invokeFunction(\n",
              "            'suggestCharts', [key], {});\n",
              "      } catch (error) {\n",
              "        console.error('Error during call to suggestCharts:', error);\n",
              "      }\n",
              "      quickchartButtonEl.classList.remove('colab-df-spinner');\n",
              "      quickchartButtonEl.classList.add('colab-df-quickchart-complete');\n",
              "    }\n",
              "    (() => {\n",
              "      let quickchartButtonEl =\n",
              "        document.querySelector('#df-6a5e4e9f-0608-4854-bcf8-123e98370dca button');\n",
              "      quickchartButtonEl.style.display =\n",
              "        google.colab.kernel.accessAllowed ? 'block' : 'none';\n",
              "    })();\n",
              "  </script>\n",
              "</div>\n",
              "\n",
              "  <div id=\"id_2ed5b100-7c83-4cca-8d4e-bc91d410431f\">\n",
              "    <style>\n",
              "      .colab-df-generate {\n",
              "        background-color: #E8F0FE;\n",
              "        border: none;\n",
              "        border-radius: 50%;\n",
              "        cursor: pointer;\n",
              "        display: none;\n",
              "        fill: #1967D2;\n",
              "        height: 32px;\n",
              "        padding: 0 0 0 0;\n",
              "        width: 32px;\n",
              "      }\n",
              "\n",
              "      .colab-df-generate:hover {\n",
              "        background-color: #E2EBFA;\n",
              "        box-shadow: 0px 1px 2px rgba(60, 64, 67, 0.3), 0px 1px 3px 1px rgba(60, 64, 67, 0.15);\n",
              "        fill: #174EA6;\n",
              "      }\n",
              "\n",
              "      [theme=dark] .colab-df-generate {\n",
              "        background-color: #3B4455;\n",
              "        fill: #D2E3FC;\n",
              "      }\n",
              "\n",
              "      [theme=dark] .colab-df-generate:hover {\n",
              "        background-color: #434B5C;\n",
              "        box-shadow: 0px 1px 3px 1px rgba(0, 0, 0, 0.15);\n",
              "        filter: drop-shadow(0px 1px 2px rgba(0, 0, 0, 0.3));\n",
              "        fill: #FFFFFF;\n",
              "      }\n",
              "    </style>\n",
              "    <button class=\"colab-df-generate\" onclick=\"generateWithVariable('vi_data_df')\"\n",
              "            title=\"Generate code using this dataframe.\"\n",
              "            style=\"display:none;\">\n",
              "\n",
              "  <svg xmlns=\"http://www.w3.org/2000/svg\" height=\"24px\"viewBox=\"0 0 24 24\"\n",
              "       width=\"24px\">\n",
              "    <path d=\"M7,19H8.4L18.45,9,17,7.55,7,17.6ZM5,21V16.75L18.45,3.32a2,2,0,0,1,2.83,0l1.4,1.43a1.91,1.91,0,0,1,.58,1.4,1.91,1.91,0,0,1-.58,1.4L9.25,21ZM18.45,9,17,7.55Zm-12,3A5.31,5.31,0,0,0,4.9,8.1,5.31,5.31,0,0,0,1,6.5,5.31,5.31,0,0,0,4.9,4.9,5.31,5.31,0,0,0,6.5,1,5.31,5.31,0,0,0,8.1,4.9,5.31,5.31,0,0,0,12,6.5,5.46,5.46,0,0,0,6.5,12Z\"/>\n",
              "  </svg>\n",
              "    </button>\n",
              "    <script>\n",
              "      (() => {\n",
              "      const buttonEl =\n",
              "        document.querySelector('#id_2ed5b100-7c83-4cca-8d4e-bc91d410431f button.colab-df-generate');\n",
              "      buttonEl.style.display =\n",
              "        google.colab.kernel.accessAllowed ? 'block' : 'none';\n",
              "\n",
              "      buttonEl.onclick = () => {\n",
              "        google.colab.notebook.generateWithVariable('vi_data_df');\n",
              "      }\n",
              "      })();\n",
              "    </script>\n",
              "  </div>\n",
              "\n",
              "    </div>\n",
              "  </div>\n"
            ],
            "text/plain": [
              "             id                                           question  \\\n",
              "0    1570446247  Quang Hải giành được chức vô địch U21 quốc gia...   \n",
              "1    1570445661                   Mỗi hiệp bóng đá kéo dài bao lâu   \n",
              "2    1570382095            Quân đội Hoa Kỳ gồm những lực lượng nào   \n",
              "3    1570382072                                     Ngọc Lan là ai   \n",
              "4    1570382037         Thu Phương từng được những giải thưởng nào   \n",
              "..          ...                                                ...   \n",
              "495  1569486091  Dân số của Sóc Trăng đứng thứ mấy trong khu vự...   \n",
              "496  1569486072  Các nguyên lý toán học của triết học tự nhiên ...   \n",
              "497  1569486003                    Biến đổi khí hậu Trái Đất là gì   \n",
              "498  1569485614     Phanxicô Xaviê Trương Bửu Diệp mất vào năm nào   \n",
              "499  1569485573  Mật độ dân số của vùng trung du và miền núi ph...   \n",
              "\n",
              "                                                  text  \n",
              "0    Năm 2013 , Nguyễn Quang Hải giành chức vô địch...  \n",
              "1    Một trận đấu bóng đá thông thường có hai hiệp ...  \n",
              "2    Quân đội Hoa Kỳ hay Các lực lượng vũ trang Hoa...  \n",
              "3    Ngọc Lan ( 28 tháng 12 năm 1956 - 6 tháng 3 20...  \n",
              "4    Cô được coi là một trong những ca sĩ thuộc thế...  \n",
              "..                                                 ...  \n",
              "495  Sóc Trăng là một tỉnh ven biển thuộc đồng bằng...  \n",
              "496  Đây là những điều cơ bản tiên quyết của cơ học...  \n",
              "497  Biến đổi khí hậu là những biến đổi trong môi t...  \n",
              "498  Phanxicô Xaviê Trương Bửu Diệp ( 1 tháng 1 năm...  \n",
              "499  Vùng trung du miền núi phía bắc , trước năm 19...  \n",
              "\n",
              "[500 rows x 3 columns]"
            ]
          },
          "execution_count": 4,
          "metadata": {},
          "output_type": "execute_result"
        }
      ],
      "source": [
        "vi_data_df"
      ]
    },
    {
      "cell_type": "code",
      "execution_count": null,
      "metadata": {
        "id": "X9zk5CDhcUmL"
      },
      "outputs": [],
      "source": [
        "context = vi_data_df['text']"
      ]
    },
    {
      "cell_type": "code",
      "execution_count": null,
      "metadata": {
        "id": "IaxLcUFedwWm"
      },
      "outputs": [],
      "source": [
        "context = [doc.lower() for doc in context]"
      ]
    },
    {
      "cell_type": "code",
      "execution_count": null,
      "metadata": {
        "colab": {
          "base_uri": "https://localhost:8080/"
        },
        "id": "DAexQgZbcfct",
        "outputId": "acfb491d-66b6-4e25-95e9-0456e8ca0b1e"
      },
      "outputs": [
        {
          "data": {
            "text/plain": [
              "['năm 2013 , nguyễn quang hải giành chức vô địch u21 quốc gia 2013 cùng với đội trẻ hà nội t&t và tạo nên cú sốc khi trở thành cầu thủ 16 tuổi đầu tiên giành được danh hiệu vô địch u21 quốc gia .',\n",
              " 'một trận đấu bóng đá thông thường có hai hiệp , mỗi hiệp 45 phút với khoảng thời gian 15 phút nghỉ giữa hai hiệp .',\n",
              " 'quân đội hoa kỳ hay các lực lượng vũ trang hoa kỳ là tổng hợp các lực lượng quân sự thống nhất của hoa kỳ . các lực lượng này gồm có lục quân , hải quân , thuỷ quân lục chiến , không quân và tuần duyên .',\n",
              " 'ngọc lan ( 28 tháng 12 năm 1956 - 6 tháng 3 2001 ) là một ca sĩ hải ngoại nổi tiếng . không chỉ với giọng hát , cô còn được khán giả đặc biệt yêu mến vì khuôn mặt khả ái và tính cách nhút nhát , khiêm tốn của mình .',\n",
              " 'cô được coi là một trong những ca sĩ thuộc thế hệ thứ hai của nền nhạc nhẹ việt nam đạt được nhiều giải thưởng nhất .']"
            ]
          },
          "execution_count": 7,
          "metadata": {},
          "output_type": "execute_result"
        }
      ],
      "source": [
        "context[:5]"
      ]
    },
    {
      "cell_type": "code",
      "execution_count": null,
      "metadata": {
        "id": "Tj6QDbrLb0ae"
      },
      "outputs": [],
      "source": [
        "tfidf_vectorizer = TfidfVectorizer()"
      ]
    },
    {
      "cell_type": "code",
      "execution_count": null,
      "metadata": {
        "id": "pKFc3Qeac2Kx"
      },
      "outputs": [],
      "source": [
        "context_embedded = tfidf_vectorizer.fit_transform(context)"
      ]
    },
    {
      "cell_type": "code",
      "execution_count": null,
      "metadata": {
        "colab": {
          "base_uri": "https://localhost:8080/"
        },
        "id": "dDFS6kgedCD0",
        "outputId": "5bdbc885-b2c4-4fb0-944d-b94c6e5c1b53"
      },
      "outputs": [
        {
          "data": {
            "text/plain": [
              "(500, 2913)"
            ]
          },
          "execution_count": 10,
          "metadata": {},
          "output_type": "execute_result"
        }
      ],
      "source": [
        "context_embedded.shape"
      ]
    },
    {
      "cell_type": "code",
      "execution_count": null,
      "metadata": {
        "colab": {
          "base_uri": "https://localhost:8080/"
        },
        "id": "IQvOsukIgmnZ",
        "outputId": "8baaece0-1ba1-4115-8598-1e77acb0bb73"
      },
      "outputs": [
        {
          "data": {
            "text/plain": [
              "0.31126580760710637"
            ]
          },
          "execution_count": 22,
          "metadata": {},
          "output_type": "execute_result"
        }
      ],
      "source": [
        "context_embedded.toarray()[7][0]"
      ]
    },
    {
      "cell_type": "code",
      "execution_count": 23,
      "metadata": {
        "colab": {
          "base_uri": "https://localhost:8080/"
        },
        "id": "YNfQw1iVVmMz",
        "outputId": "0ae4d8b0-7935-4e77-8e70-fbf74c0ee75b"
      },
      "outputs": [
        {
          "data": {
            "text/plain": [
              "0.31126580760710637"
            ]
          },
          "execution_count": 23,
          "metadata": {},
          "output_type": "execute_result"
        }
      ],
      "source": [
        "# question 10\n",
        "import pandas as pd\n",
        "import numpy as np\n",
        "from sklearn.metrics.pairwise import cosine_similarity\n",
        "from sklearn.feature_extraction.text import TfidfVectorizer\n",
        "\n",
        "vi_data_df = pd.read_csv(\"./vi_text_retrieval.csv\")\n",
        "context = vi_data_df['text']\n",
        "context = [doc.lower() for doc in context]\n",
        "\n",
        "tfidf_vectorizer = TfidfVectorizer()\n",
        "context_embedded = tfidf_vectorizer.fit_transform(context)\n",
        "context_embedded.toarray()[7][0]"
      ]
    },
    {
      "cell_type": "markdown",
      "metadata": {
        "id": "w4CXRwSLdfr0"
      },
      "source": [
        "##**Retrieval**"
      ]
    },
    {
      "cell_type": "markdown",
      "metadata": {
        "id": "8PugSopyhG8i"
      },
      "source": [
        "###**Cosine Similarity**"
      ]
    },
    {
      "cell_type": "code",
      "execution_count": null,
      "metadata": {
        "colab": {
          "base_uri": "https://localhost:8080/"
        },
        "id": "MRy61SNNdnAN",
        "outputId": "6940e33c-3cf9-4166-cfd7-5e76d3b38246"
      },
      "outputs": [
        {
          "data": {
            "text/plain": [
              "id                                                 1570446247\n",
              "question    Quang Hải giành được chức vô địch U21 quốc gia...\n",
              "text        Năm 2013 , Nguyễn Quang Hải giành chức vô địch...\n",
              "Name: 0, dtype: object"
            ]
          },
          "execution_count": 62,
          "metadata": {},
          "output_type": "execute_result"
        }
      ],
      "source": [
        "vi_data_df.iloc[0]"
      ]
    },
    {
      "cell_type": "code",
      "execution_count": null,
      "metadata": {
        "colab": {
          "base_uri": "https://localhost:8080/",
          "height": 35
        },
        "id": "KgmRjfe-djSv",
        "outputId": "4e8641d8-79cf-47af-8e1d-92e3e96e7835"
      },
      "outputs": [
        {
          "data": {
            "application/vnd.google.colaboratory.intrinsic+json": {
              "type": "string"
            },
            "text/plain": [
              "'Quang Hải giành được chức vô địch U21 quốc gia năm bao nhiêu tuổi'"
            ]
          },
          "execution_count": 63,
          "metadata": {},
          "output_type": "execute_result"
        }
      ],
      "source": [
        "question = vi_data_df.iloc[0]['question']\n",
        "question"
      ]
    },
    {
      "cell_type": "code",
      "execution_count": null,
      "metadata": {
        "colab": {
          "base_uri": "https://localhost:8080/"
        },
        "id": "8uZTzoind886",
        "outputId": "cfa67c4e-40f1-45d1-d788-831515c0d592"
      },
      "outputs": [
        {
          "data": {
            "text/plain": [
              "(1, 2913)"
            ]
          },
          "execution_count": 66,
          "metadata": {},
          "output_type": "execute_result"
        }
      ],
      "source": [
        "query_embedded = tfidf_vectorizer.transform([question.lower()])\n",
        "query_embedded.shape"
      ]
    },
    {
      "cell_type": "code",
      "execution_count": null,
      "metadata": {
        "id": "AGxNpNUteLbP"
      },
      "outputs": [],
      "source": [
        "cosine_scores = cosine_similarity(context_embedded, query_embedded).reshape((-1,))"
      ]
    },
    {
      "cell_type": "code",
      "execution_count": null,
      "metadata": {
        "colab": {
          "base_uri": "https://localhost:8080/"
        },
        "id": "Y_TWpSv_eUwp",
        "outputId": "74856248-e271-4789-b9cf-88f526ff181f"
      },
      "outputs": [
        {
          "data": {
            "text/plain": [
              "(500,)"
            ]
          },
          "execution_count": 71,
          "metadata": {},
          "output_type": "execute_result"
        }
      ],
      "source": [
        "cosine_scores.shape"
      ]
    },
    {
      "cell_type": "code",
      "execution_count": null,
      "metadata": {
        "colab": {
          "base_uri": "https://localhost:8080/"
        },
        "id": "MsvPJCyZedF7",
        "outputId": "7f5a3e59-3dc8-443f-b4e7-d178e81ccd51"
      },
      "outputs": [
        {
          "name": "stdout",
          "output_type": "stream",
          "text": [
            "Score:  0.6279910475266974\n",
            "Năm 2013 , Nguyễn Quang Hải giành chức vô địch U21 quốc gia 2013 cùng với đội trẻ Hà Nội T&T và tạo nên cú sốc khi trở thành cầu thủ 16 tuổi đầu tiên giành được danh hiệu vô địch U21 quốc gia .\n",
            "=======\n",
            "Score:  0.2114579586225163\n",
            "Bao Công huý là Bao Chửng ( chữ Hán : 包拯 ; 11 tháng 4 năm 999 - 20 tháng 5 năm 1062 ) , tự Hy Nhân . Ngoài ra , ông còn được gọi là Bao Thanh thiên , Bao Đãi chế , Bao Hắc tử , Bao Học sĩ hay Bao Long Đồ .\n",
            "=======\n",
            "Score:  0.17714753149794465\n",
            "Arsenal đã giành được 13 chức vô địch quốc gia , 13 Cúp FA ( kỷ lục ) , 2 Cúp Liên đoàn Anh , 1 Cúp Liên đoàn Thế kỷ , 15 Siêu cúp Anh , 1 Cúp UEFA và 1 Cúp Inter-Cities Fairs . Arsenal là câu lạc bộ có số trận thắng ở cấp cao nhất nhiều thứ hai trong lịch sử bóng đá Anh , và cũng là đội bóng Anh duy nhất cho đến nay vô địch quốc gia với thành tích bất bại qua 38 vòng đấu , nhận biệt danh The Invincibles ( tiếng Việt : \" Đội bóng bất bại \" ) và giành Cúp vàng Ngoại hạng Anh .\n",
            "=======\n",
            "Score:  0.15971218395887335\n",
            "Tây Ban Nha cũng là đội vô địch World Cup đầu tiên giữ được sạch lưới tại vòng đấu loại trực tiếp .\n",
            "=======\n",
            "Score:  0.1578067474650028\n",
            "Tuyên Quang là một tỉnh thuộc vùng Đông Bắc Việt Nam . Có tỉnh lỵ là Thành phố Tuyên Quang .\n",
            "=======\n"
          ]
        }
      ],
      "source": [
        "# Get stop cosine similarity score\n",
        "top_d = 5\n",
        "for idx in cosine_scores.argsort()[-top_d:][::-1]:\n",
        "    print(\"Score: \", cosine_scores[idx])\n",
        "    print(vi_data_df.iloc[idx, 2])\n",
        "    print(\"=======\")"
      ]
    },
    {
      "cell_type": "code",
      "execution_count": null,
      "metadata": {
        "id": "BWUJN_6dfSCn"
      },
      "outputs": [],
      "source": [
        "def tfidf_search(question, tfidf_vectorizer, top_d=5):\n",
        "    query_embedded = tfidf_vectorizer.transform([question.lower()])\n",
        "    cosine_scores = cosine_similarity(context_embedded, query_embedded).reshape((-1,))\n",
        "    results = []\n",
        "    for idx in cosine_scores.argsort()[-top_d:][::-1]:\n",
        "        doc = {\n",
        "            'id': idx,\n",
        "            'cosine_score':cosine_scores[idx]\n",
        "        }\n",
        "        results.append(doc)\n",
        "    return results"
      ]
    },
    {
      "cell_type": "code",
      "execution_count": null,
      "metadata": {
        "colab": {
          "base_uri": "https://localhost:8080/"
        },
        "id": "zxncDCGifvLx",
        "outputId": "a62c6499-a540-4ca3-fd57-6cabf6c861f9"
      },
      "outputs": [
        {
          "name": "stdout",
          "output_type": "stream",
          "text": [
            "Question:  Quang Hải giành được chức vô địch U21 quốc gia năm bao nhiêu tuổi\n",
            "Id:  0\n",
            "Score:  0.6279910475266974\n",
            "Năm 2013 , Nguyễn Quang Hải giành chức vô địch U21 quốc gia 2013 cùng với đội trẻ Hà Nội T&T và tạo nên cú sốc khi trở thành cầu thủ 16 tuổi đầu tiên giành được danh hiệu vô địch U21 quốc gia .\n",
            "=======\n",
            "Id:  97\n",
            "Score:  0.2114579586225163\n",
            "Bao Công huý là Bao Chửng ( chữ Hán : 包拯 ; 11 tháng 4 năm 999 - 20 tháng 5 năm 1062 ) , tự Hy Nhân . Ngoài ra , ông còn được gọi là Bao Thanh thiên , Bao Đãi chế , Bao Hắc tử , Bao Học sĩ hay Bao Long Đồ .\n",
            "=======\n",
            "Id:  136\n",
            "Score:  0.17714753149794465\n",
            "Arsenal đã giành được 13 chức vô địch quốc gia , 13 Cúp FA ( kỷ lục ) , 2 Cúp Liên đoàn Anh , 1 Cúp Liên đoàn Thế kỷ , 15 Siêu cúp Anh , 1 Cúp UEFA và 1 Cúp Inter-Cities Fairs . Arsenal là câu lạc bộ có số trận thắng ở cấp cao nhất nhiều thứ hai trong lịch sử bóng đá Anh , và cũng là đội bóng Anh duy nhất cho đến nay vô địch quốc gia với thành tích bất bại qua 38 vòng đấu , nhận biệt danh The Invincibles ( tiếng Việt : \" Đội bóng bất bại \" ) và giành Cúp vàng Ngoại hạng Anh .\n",
            "=======\n",
            "Id:  384\n",
            "Score:  0.15971218395887335\n",
            "Tây Ban Nha cũng là đội vô địch World Cup đầu tiên giữ được sạch lưới tại vòng đấu loại trực tiếp .\n",
            "=======\n",
            "Id:  118\n",
            "Score:  0.1578067474650028\n",
            "Tuyên Quang là một tỉnh thuộc vùng Đông Bắc Việt Nam . Có tỉnh lỵ là Thành phố Tuyên Quang .\n",
            "=======\n"
          ]
        }
      ],
      "source": [
        "question = vi_data_df.iloc[0]['question']\n",
        "print(\"Question: \", question)\n",
        "results = tfidf_search(question, tfidf_vectorizer)\n",
        "for result in results:\n",
        "    print(\"Id: \", result['id'])\n",
        "    print(\"Score: \", result['cosine_score'])\n",
        "    print(vi_data_df.iloc[result['id'], 2])\n",
        "    print(\"=======\")"
      ]
    },
    {
      "cell_type": "code",
      "execution_count": null,
      "metadata": {
        "colab": {
          "base_uri": "https://localhost:8080/"
        },
        "id": "1eTVHiEog5uO",
        "outputId": "d15b26e7-d4b4-4a25-a1e3-28681355d952"
      },
      "outputs": [
        {
          "name": "stdout",
          "output_type": "stream",
          "text": [
            "Question:  Đế quốc Mông Cổ tồn tại khoảng thời gian nào\n",
            "Id:  7\n",
            "Score:  0.33596167176983205\n",
            "Đế quốc Mông Cổ (tiếng Mông Cổ: Монголын эзэнт гүрэн, chuyển tự Mongol-yn Ezent Güren IPA: [mɔŋɡ(ɔ)ɮˈiːŋ ɛt͡sˈɛnt ˈɡurəŋ] (nghe)) là đế quốc du mục lớn nhất trong lịch sử, từng tồn tại trong các thế kỷ 13 và 14.[2] Khởi đầu trên vùng thảo nguyên Trung Á, đế quốc cuối cùng đã trải dài từ Đông Âu đến biển Nhật Bản, bao gồm nhiều phần rộng lớn của Siberi ở phía bắc và mở rộng về phía nam đến Đông Nam Á, tiểu lục địa Ấn Độ, cao nguyên Iran, và Trung Đông. Ở thời điểm đỉnh cao, đế quốc Mông Cổ trải dài 9.700 km (6.000 mi), diện tích lãnh thổ lên tới 24.000.000 km2 (9.300.000 sq mi),[3][4][5][6] và thống trị 100 triệu dân.\n",
            "=======\n",
            "Id:  74\n",
            "Score:  0.27474674050287234\n",
            "Đế quốc Mông Cổ từng tồn tại trong các thế kỷ 13 và 14 , là đế quốc có lãnh thổ liền nhau lớn nhất trong lịch sử nhân loại . Khởi đầu trên vùng thảo nguyên Trung Á , đế quốc cuối cùng đã trải dài từ Đông Âu đến biển Nhật Bản , bao gồm nhiều phần rộng lớn của Siberi ở phía bắc và mở rộng về phía nam đến Đông Nam Á , tiểu lục địa Ấn Độ , cao nguyên Iran , và Trung Đông .\n",
            "=======\n",
            "Id:  437\n",
            "Score:  0.273876639388304\n",
            "Dù là con số nào , nhà Chu vẫn là triều đại tồn tại lâu nhất trong lịch sử Trung Quốc .\n",
            "=======\n",
            "Id:  351\n",
            "Score:  0.1703220452171351\n",
            "Đế quốc Nhật Bản hay Đại Nhật Bản Đế quốc là một quốc gia dân tộc trong lịch sử Nhật Bản tồn tại từ cuộc cách mạng Minh Trị năm 1868 cho đến khi Hiến pháp Nhật Bản được ban hành vào năm 1947\n",
            "=======\n",
            "Id:  293\n",
            "Score:  0.1703220452171351\n",
            "Đế quốc Nhật Bản hay Đại Nhật Bản Đế quốc là một quốc gia dân tộc trong lịch sử Nhật Bản tồn tại từ cuộc cách mạng Minh Trị năm 1868 cho đến khi Hiến pháp Nhật Bản được ban hành vào năm 1947\n",
            "=======\n"
          ]
        }
      ],
      "source": [
        "question = vi_data_df.iloc[7]['question']\n",
        "print(\"Question: \", question)\n",
        "results = tfidf_search(question, tfidf_vectorizer)\n",
        "for result in results:\n",
        "    print(\"Id: \", result['id'])\n",
        "    print(\"Score: \", result['cosine_score'])\n",
        "    print(vi_data_df.iloc[result['id'], 2])\n",
        "    print(\"=======\")"
      ]
    },
    {
      "cell_type": "code",
      "execution_count": 24,
      "metadata": {
        "colab": {
          "base_uri": "https://localhost:8080/"
        },
        "id": "qWUUDvjlV0QY",
        "outputId": "2d147a5b-f33f-4bfb-b2b2-9ffc386d149e"
      },
      "outputs": [
        {
          "data": {
            "text/plain": [
              "0.6279910475266973"
            ]
          },
          "execution_count": 24,
          "metadata": {},
          "output_type": "execute_result"
        }
      ],
      "source": [
        "# question 11\n",
        "\n",
        "def tfidf_search(question, tfidf_vectorizer, top_d=5):\n",
        "    # lowercasing before encoding\n",
        "    query_embedded = tfidf_vectorizer.transform([question.lower()])\n",
        "    cosine_scores = cosine_similarity(context_embedded, query_embedded).reshape((-1,))\n",
        "\n",
        "    # Get top k cosine score and index its\n",
        "    results = []\n",
        "    for idx in cosine_scores.argsort()[-top_d:][::-1]:\n",
        "        doc = {\n",
        "            'id': idx,\n",
        "            'cosine_score':cosine_scores[idx]\n",
        "        }\n",
        "        results.append(doc)\n",
        "    return results\n",
        "\n",
        "question = vi_data_df.iloc[0]['question']\n",
        "results = tfidf_search(question, tfidf_vectorizer)\n",
        "results[0]['cosine_score']"
      ]
    },
    {
      "cell_type": "markdown",
      "metadata": {
        "id": "bcxbx5NLhKtG"
      },
      "source": [
        "###**Correlation**"
      ]
    },
    {
      "cell_type": "code",
      "execution_count": null,
      "metadata": {
        "colab": {
          "base_uri": "https://localhost:8080/",
          "height": 35
        },
        "id": "s7wZv2yyhU-v",
        "outputId": "038c8881-ec54-49e9-c003-a46cd1906209"
      },
      "outputs": [
        {
          "data": {
            "application/vnd.google.colaboratory.intrinsic+json": {
              "type": "string"
            },
            "text/plain": [
              "'Quang Hải giành được chức vô địch U21 quốc gia năm bao nhiêu tuổi'"
            ]
          },
          "execution_count": 83,
          "metadata": {},
          "output_type": "execute_result"
        }
      ],
      "source": [
        "question = vi_data_df.iloc[0]['question']\n",
        "question"
      ]
    },
    {
      "cell_type": "code",
      "execution_count": null,
      "metadata": {
        "colab": {
          "base_uri": "https://localhost:8080/"
        },
        "id": "BGPW-TkKhW15",
        "outputId": "3f656e80-a910-41bf-e6a5-8167c42f41c6"
      },
      "outputs": [
        {
          "data": {
            "text/plain": [
              "(1, 2913)"
            ]
          },
          "execution_count": 84,
          "metadata": {},
          "output_type": "execute_result"
        }
      ],
      "source": [
        "query_embedded = tfidf_vectorizer.transform([question.lower()])\n",
        "query_embedded.shape"
      ]
    },
    {
      "cell_type": "code",
      "execution_count": null,
      "metadata": {
        "id": "CvyEGnOWhZlv"
      },
      "outputs": [],
      "source": [
        "corr_scores = np.corrcoef(\n",
        "    query_embedded.toarray()[0],\n",
        "    context_embedded.toarray()\n",
        ")"
      ]
    },
    {
      "cell_type": "code",
      "execution_count": null,
      "metadata": {
        "colab": {
          "base_uri": "https://localhost:8080/"
        },
        "id": "ogZVyT1dka3X",
        "outputId": "cf230080-6c97-4914-d96a-7b1e49747318"
      },
      "outputs": [
        {
          "data": {
            "text/plain": [
              "(501, 501)"
            ]
          },
          "execution_count": 129,
          "metadata": {},
          "output_type": "execute_result"
        }
      ],
      "source": [
        "corr_scores.shape"
      ]
    },
    {
      "cell_type": "code",
      "execution_count": null,
      "metadata": {
        "colab": {
          "base_uri": "https://localhost:8080/"
        },
        "id": "-6D2kKfqlSKf",
        "outputId": "a942af00-c4ec-4ad1-acc6-c2acbed91217"
      },
      "outputs": [
        {
          "data": {
            "text/plain": [
              "array([ 0.62595998, -0.00477247,  0.02170301,  0.04041869,  0.019418  ,\n",
              "        0.01144099,  0.04205915,  0.02519109, -0.00678129])"
            ]
          },
          "execution_count": 132,
          "metadata": {},
          "output_type": "execute_result"
        }
      ],
      "source": [
        "corr_scores[0][1:10]"
      ]
    },
    {
      "cell_type": "code",
      "execution_count": null,
      "metadata": {
        "colab": {
          "base_uri": "https://localhost:8080/"
        },
        "id": "WxAyWFGCliRa",
        "outputId": "41e1e2ba-cca2-4197-b5d8-15d96851e112"
      },
      "outputs": [
        {
          "data": {
            "text/plain": [
              "array([ 68, 147, 161, 348, 374, 388, 278, 386, 141,  29, 495, 489, 130,\n",
              "        63,  57,  45, 105, 298, 157, 473, 167, 407, 297, 215, 493, 462,\n",
              "       411,  12, 248,  35, 255, 249, 430,  49,  20, 452,   8, 390, 182,\n",
              "       254, 457, 221,  47, 485, 362, 207, 304, 442, 145,  28,  25, 318,\n",
              "       322, 270,  52,  76, 196, 232, 389, 129, 436, 112, 265, 412,  32,\n",
              "       124, 385, 360, 377, 332, 326, 438, 426, 135, 309, 316, 181, 359,\n",
              "       464,  54, 160,   1, 117, 155, 276, 450, 333, 353, 443, 476, 198,\n",
              "       328, 475, 237,  69, 274, 224, 444, 177, 213, 269, 284, 137, 133,\n",
              "       150, 175, 173, 449, 354,  94, 172, 113, 497, 490, 190,  21,  62,\n",
              "       294, 343, 357, 122, 192, 387,  38, 319, 132, 305, 423, 195, 378,\n",
              "       199, 310, 415, 171, 236, 275, 459, 469, 461, 327, 401, 146, 398,\n",
              "       271, 335,  43, 262, 342,  89, 483, 138, 153,  31, 466, 104, 235,\n",
              "       280, 402, 455, 291, 323, 219,  98,  77, 499, 404,  18,  17, 373,\n",
              "        75, 218, 264, 345,  22,  87, 456, 243, 370, 317, 453,  92, 140,\n",
              "       369,  99, 299, 433, 126,  71, 222, 123, 252, 185, 421, 382, 435,\n",
              "        86, 247, 268, 311, 159, 356, 419,  41, 174, 244, 463, 329, 431,\n",
              "       334, 246, 128, 229, 458, 477, 313, 188, 148, 217,  56,  19, 179,\n",
              "       429, 257, 290,  91,  40,  39, 154, 191, 230, 143, 434, 282, 186,\n",
              "       200, 176, 107, 127, 125,  58, 164,  48, 496, 286, 350,  66, 187,\n",
              "       231, 227, 180, 259,  83, 178, 170,  96, 308, 425, 346, 487, 472,\n",
              "       202, 437, 320,   5, 486, 344, 263, 371, 468, 292, 239,  72,  53,\n",
              "       409, 211, 339, 406, 214, 240, 210, 448, 471, 367, 325, 432, 149,\n",
              "       220, 212, 169,  44, 394,  36,  73, 295, 250,  14, 103,  15, 379,\n",
              "       399, 380, 162, 111, 206, 285, 467, 193, 158, 381,  84, 114, 428,\n",
              "        80, 144,  61,  46, 416, 358, 420, 253,  23, 478, 163, 152, 238,\n",
              "         4, 234, 439, 474, 417, 397, 183, 100, 427,  85,  33,  34, 331,\n",
              "         2, 208, 396,  82, 281, 480, 300, 498, 494, 460, 337,  59, 445,\n",
              "       108, 228, 447, 106, 204, 277, 395, 273, 134,   7, 446, 302, 233,\n",
              "       119, 372, 336, 168, 272, 324,  37, 201,  26, 109, 482,  79, 189,\n",
              "       355, 287, 361, 392, 166, 312, 340, 256, 296, 465, 197, 451, 321,\n",
              "       347, 363, 410,  60, 352, 289,  93, 216, 418, 400, 223, 306,  42,\n",
              "       283, 203, 414,  70,  65,   9, 403, 194, 413, 156, 226, 101, 260,\n",
              "       242, 365, 266,  10,  16, 209, 301, 349, 258, 151,   3, 314, 279,\n",
              "        74, 376,   6, 454, 131, 288, 366,  78, 165, 315, 341, 241, 115,\n",
              "       142, 303, 330,  50,  81, 383, 110,  51,  11,  24, 491, 484,  95,\n",
              "       470,  64, 492,  27,  13, 351, 293,  67,  90, 307, 245, 116, 479,\n",
              "       488, 422, 205, 481, 408, 267, 225,  30, 391, 364, 375, 441, 368,\n",
              "       139, 261,  55, 393, 121, 184, 120, 338, 251, 405, 424, 102, 440,\n",
              "        88, 118, 384, 136,  97,   0])"
            ]
          },
          "execution_count": 136,
          "metadata": {},
          "output_type": "execute_result"
        }
      ],
      "source": [
        "corr_scores[0][1:].argsort()"
      ]
    },
    {
      "cell_type": "code",
      "execution_count": null,
      "metadata": {
        "colab": {
          "base_uri": "https://localhost:8080/"
        },
        "id": "xNGENo-Jlbwq",
        "outputId": "40d2475f-5496-40b2-a6d2-133eaefdbae3"
      },
      "outputs": [
        {
          "name": "stdout",
          "output_type": "stream",
          "text": [
            "Score:  1.0\n",
            "Năm 2013 , Nguyễn Quang Hải giành chức vô địch U21 quốc gia 2013 cùng với đội trẻ Hà Nội T&T và tạo nên cú sốc khi trở thành cầu thủ 16 tuổi đầu tiên giành được danh hiệu vô địch U21 quốc gia .\n",
            "=======\n",
            "Score:  0.010218977799153024\n",
            "Bao Công huý là Bao Chửng ( chữ Hán : 包拯 ; 11 tháng 4 năm 999 - 20 tháng 5 năm 1062 ) , tự Hy Nhân . Ngoài ra , ông còn được gọi là Bao Thanh thiên , Bao Đãi chế , Bao Hắc tử , Bao Học sĩ hay Bao Long Đồ .\n",
            "=======\n",
            "Score:  -0.005223983785487503\n",
            "Arsenal đã giành được 13 chức vô địch quốc gia , 13 Cúp FA ( kỷ lục ) , 2 Cúp Liên đoàn Anh , 1 Cúp Liên đoàn Thế kỷ , 15 Siêu cúp Anh , 1 Cúp UEFA và 1 Cúp Inter-Cities Fairs . Arsenal là câu lạc bộ có số trận thắng ở cấp cao nhất nhiều thứ hai trong lịch sử bóng đá Anh , và cũng là đội bóng Anh duy nhất cho đến nay vô địch quốc gia với thành tích bất bại qua 38 vòng đấu , nhận biệt danh The Invincibles ( tiếng Việt : \" Đội bóng bất bại \" ) và giành Cúp vàng Ngoại hạng Anh .\n",
            "=======\n",
            "Score:  0.04719630867691377\n",
            "Tây Ban Nha cũng là đội vô địch World Cup đầu tiên giữ được sạch lưới tại vòng đấu loại trực tiếp .\n",
            "=======\n",
            "Score:  -0.004762359075143503\n",
            "Tuyên Quang là một tỉnh thuộc vùng Đông Bắc Việt Nam . Có tỉnh lỵ là Thành phố Tuyên Quang .\n",
            "=======\n"
          ]
        }
      ],
      "source": [
        "# Get stop cosine similarity score\n",
        "top_d = 5\n",
        "for idx in corr_scores[0][1:].argsort()[-top_d:][::-1]:\n",
        "    print(\"Score: \", corr_scores[0][idx])\n",
        "    print(vi_data_df.iloc[idx, 2])\n",
        "    print(\"=======\")"
      ]
    },
    {
      "cell_type": "code",
      "execution_count": null,
      "metadata": {
        "id": "fGDPGB89l8p-"
      },
      "outputs": [],
      "source": [
        "def corr_search(question, tfidf_vectorizer, top_d=5):\n",
        "    query_embedded = tfidf_vectorizer.transform([question.lower()])\n",
        "    corr_scores = np.corrcoef(\n",
        "        query_embedded.toarray()[0],\n",
        "        context_embedded.toarray()\n",
        "    )\n",
        "    corr_scores = corr_scores[0][1:]\n",
        "    results = []\n",
        "    for idx in corr_scores.argsort()[-top_d:][::-1]:\n",
        "        doc = {\n",
        "            'id': idx,\n",
        "            'corr_score':corr_scores[idx]\n",
        "        }\n",
        "        results.append(doc)\n",
        "    return results"
      ]
    },
    {
      "cell_type": "code",
      "execution_count": null,
      "metadata": {
        "colab": {
          "base_uri": "https://localhost:8080/"
        },
        "id": "B8HRAshymS-m",
        "outputId": "09965d58-7e2b-4dc4-9470-5e4d682ec968"
      },
      "outputs": [
        {
          "name": "stdout",
          "output_type": "stream",
          "text": [
            "Question:  Quang Hải giành được chức vô địch U21 quốc gia năm bao nhiêu tuổi\n",
            "Id:  0\n",
            "Score:  0.6259599752568777\n",
            "Năm 2013 , Nguyễn Quang Hải giành chức vô địch U21 quốc gia 2013 cùng với đội trẻ Hà Nội T&T và tạo nên cú sốc khi trở thành cầu thủ 16 tuổi đầu tiên giành được danh hiệu vô địch U21 quốc gia .\n",
            "=======\n",
            "Id:  97\n",
            "Score:  0.20734246471973258\n",
            "Bao Công huý là Bao Chửng ( chữ Hán : 包拯 ; 11 tháng 4 năm 999 - 20 tháng 5 năm 1062 ) , tự Hy Nhân . Ngoài ra , ông còn được gọi là Bao Thanh thiên , Bao Đãi chế , Bao Hắc tử , Bao Học sĩ hay Bao Long Đồ .\n",
            "=======\n",
            "Id:  136\n",
            "Score:  0.17124615520165054\n",
            "Arsenal đã giành được 13 chức vô địch quốc gia , 13 Cúp FA ( kỷ lục ) , 2 Cúp Liên đoàn Anh , 1 Cúp Liên đoàn Thế kỷ , 15 Siêu cúp Anh , 1 Cúp UEFA và 1 Cúp Inter-Cities Fairs . Arsenal là câu lạc bộ có số trận thắng ở cấp cao nhất nhiều thứ hai trong lịch sử bóng đá Anh , và cũng là đội bóng Anh duy nhất cho đến nay vô địch quốc gia với thành tích bất bại qua 38 vòng đấu , nhận biệt danh The Invincibles ( tiếng Việt : \" Đội bóng bất bại \" ) và giành Cúp vàng Ngoại hạng Anh .\n",
            "=======\n",
            "Id:  384\n",
            "Score:  0.15520346054699719\n",
            "Tây Ban Nha cũng là đội vô địch World Cup đầu tiên giữ được sạch lưới tại vòng đấu loại trực tiếp .\n",
            "=======\n",
            "Id:  118\n",
            "Score:  0.1544453199666337\n",
            "Tuyên Quang là một tỉnh thuộc vùng Đông Bắc Việt Nam . Có tỉnh lỵ là Thành phố Tuyên Quang .\n",
            "=======\n"
          ]
        }
      ],
      "source": [
        "question = vi_data_df.iloc[0]['question']\n",
        "print(\"Question: \", question)\n",
        "results = corr_search(question, tfidf_vectorizer)\n",
        "for result in results:\n",
        "    print(\"Id: \", result['id'])\n",
        "    print(\"Score: \", result['corr_score'])\n",
        "    print(vi_data_df.iloc[result['id'], 2])\n",
        "    print(\"=======\")"
      ]
    },
    {
      "cell_type": "code",
      "execution_count": null,
      "metadata": {
        "colab": {
          "base_uri": "https://localhost:8080/"
        },
        "id": "uxmrs4U9mZwH",
        "outputId": "5331ca86-78a7-40a1-da2a-20c1d09d5339"
      },
      "outputs": [
        {
          "name": "stdout",
          "output_type": "stream",
          "text": [
            "Question:  Đế quốc Mông Cổ tồn tại khoảng thời gian nào\n",
            "Id:  7\n",
            "Score:  0.3317381973605389\n",
            "Đế quốc Mông Cổ (tiếng Mông Cổ: Монголын эзэнт гүрэн, chuyển tự Mongol-yn Ezent Güren IPA: [mɔŋɡ(ɔ)ɮˈiːŋ ɛt͡sˈɛnt ˈɡurəŋ] (nghe)) là đế quốc du mục lớn nhất trong lịch sử, từng tồn tại trong các thế kỷ 13 và 14.[2] Khởi đầu trên vùng thảo nguyên Trung Á, đế quốc cuối cùng đã trải dài từ Đông Âu đến biển Nhật Bản, bao gồm nhiều phần rộng lớn của Siberi ở phía bắc và mở rộng về phía nam đến Đông Nam Á, tiểu lục địa Ấn Độ, cao nguyên Iran, và Trung Đông. Ở thời điểm đỉnh cao, đế quốc Mông Cổ trải dài 9.700 km (6.000 mi), diện tích lãnh thổ lên tới 24.000.000 km2 (9.300.000 sq mi),[3][4][5][6] và thống trị 100 triệu dân.\n",
            "=======\n",
            "Id:  437\n",
            "Score:  0.2707711717980515\n",
            "Dù là con số nào , nhà Chu vẫn là triều đại tồn tại lâu nhất trong lịch sử Trung Quốc .\n",
            "=======\n",
            "Id:  74\n",
            "Score:  0.2699863245722582\n",
            "Đế quốc Mông Cổ từng tồn tại trong các thế kỷ 13 và 14 , là đế quốc có lãnh thổ liền nhau lớn nhất trong lịch sử nhân loại . Khởi đầu trên vùng thảo nguyên Trung Á , đế quốc cuối cùng đã trải dài từ Đông Âu đến biển Nhật Bản , bao gồm nhiều phần rộng lớn của Siberi ở phía bắc và mở rộng về phía nam đến Đông Nam Á , tiểu lục địa Ấn Độ , cao nguyên Iran , và Trung Đông .\n",
            "=======\n",
            "Id:  351\n",
            "Score:  0.16633163224425174\n",
            "Đế quốc Nhật Bản hay Đại Nhật Bản Đế quốc là một quốc gia dân tộc trong lịch sử Nhật Bản tồn tại từ cuộc cách mạng Minh Trị năm 1868 cho đến khi Hiến pháp Nhật Bản được ban hành vào năm 1947\n",
            "=======\n",
            "Id:  293\n",
            "Score:  0.16633163224425174\n",
            "Đế quốc Nhật Bản hay Đại Nhật Bản Đế quốc là một quốc gia dân tộc trong lịch sử Nhật Bản tồn tại từ cuộc cách mạng Minh Trị năm 1868 cho đến khi Hiến pháp Nhật Bản được ban hành vào năm 1947\n",
            "=======\n"
          ]
        }
      ],
      "source": [
        "question = vi_data_df.iloc[7]['question']\n",
        "print(\"Question: \", question)\n",
        "results = corr_search(question, tfidf_vectorizer)\n",
        "for result in results:\n",
        "    print(\"Id: \", result['id'])\n",
        "    print(\"Score: \", result['corr_score'])\n",
        "    print(vi_data_df.iloc[result['id'], 2])\n",
        "    print(\"=======\")"
      ]
    },
    {
      "cell_type": "code",
      "execution_count": 27,
      "metadata": {
        "colab": {
          "base_uri": "https://localhost:8080/"
        },
        "id": "MT6QbmcTWP2Q",
        "outputId": "9240e4b8-e0f4-457d-f47d-5279decd4fc3"
      },
      "outputs": [
        {
          "data": {
            "text/plain": [
              "0.20734246471973258"
            ]
          },
          "execution_count": 27,
          "metadata": {},
          "output_type": "execute_result"
        }
      ],
      "source": [
        "# question 12\n",
        "\n",
        "def corr_search(question, tfidf_vectorizer, top_d=5):\n",
        "    # lowercasing before encoding\n",
        "    query_embedded = tfidf_vectorizer.transform([question.lower()])\n",
        "    corr_scores = np.corrcoef(\n",
        "        query_embedded.toarray()[0],\n",
        "        context_embedded.toarray()\n",
        "    )\n",
        "    corr_scores = corr_scores[0][1:]\n",
        "\n",
        "    # Get top k correlation score and index its\n",
        "    results = []\n",
        "    for idx in corr_scores.argsort()[-top_d:][::-1]:\n",
        "        doc = {\n",
        "            'id': idx,\n",
        "            'corr_score':corr_scores[idx]\n",
        "        }\n",
        "        results.append(doc)\n",
        "    return results\n",
        "\n",
        "question = vi_data_df.iloc[0]['question']\n",
        "results = corr_search(question, tfidf_vectorizer, top_d=5)\n",
        "results[1]['corr_score']"
      ]
    },
    {
      "cell_type": "code",
      "execution_count": null,
      "metadata": {
        "id": "r-05zTJxWhQT"
      },
      "outputs": [],
      "source": []
    }
  ],
  "metadata": {
    "colab": {
      "provenance": []
    },
    "kernelspec": {
      "display_name": "aio2024",
      "language": "python",
      "name": "python3"
    },
    "language_info": {
      "name": "python",
      "version": "3.11.11"
    }
  },
  "nbformat": 4,
  "nbformat_minor": 0
}
