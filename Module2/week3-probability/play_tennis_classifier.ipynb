{
 "cells": [
  {
   "cell_type": "code",
   "execution_count": 32,
   "metadata": {},
   "outputs": [
    {
     "name": "stdout",
     "output_type": "stream",
     "text": [
      "[['Sunny' 'Hot' 'High' 'Weak' 'no']\n",
      " ['Sunny' 'Hot' 'High' 'Strong' 'no']\n",
      " ['Overcast' 'Hot' 'High' 'Weak' 'yes']\n",
      " ['Rain' 'Mild' 'High' 'Weak' 'yes']\n",
      " ['Rain' 'Cool' 'Normal' 'Weak' 'yes']\n",
      " ['Rain' 'Cool' 'Normal' 'Strong' 'no']\n",
      " ['Overcast' 'Cool' 'Normal' 'Strong' 'yes']\n",
      " ['Overcast' 'Mild' 'High' 'Weak' 'no']\n",
      " ['Sunny' 'Cool' 'Normal' 'Weak' 'yes']\n",
      " ['Rain' 'Mild' 'Normal' 'Weak' 'yes']]\n"
     ]
    }
   ],
   "source": [
    "import numpy as np\n",
    "\n",
    "def create_train_data():\n",
    "    data = [['Sunny', 'Hot', 'High', 'Weak', 'no'],\n",
    "            ['Sunny', 'Hot', 'High', 'Strong', 'no'],\n",
    "            ['Overcast', 'Hot', 'High', 'Weak', 'yes'],\n",
    "            ['Rain', 'Mild', 'High', 'Weak', 'yes'],\n",
    "            ['Rain', 'Cool', 'Normal', 'Weak', 'yes'],\n",
    "            ['Rain', 'Cool', 'Normal', 'Strong', 'no'],\n",
    "            ['Overcast', 'Cool', 'Normal', 'Strong', 'yes'],\n",
    "            ['Overcast', 'Mild', 'High', 'Weak', 'no'],\n",
    "            ['Sunny', 'Cool', 'Normal', 'Weak', 'yes'],\n",
    "            ['Rain', 'Mild', 'Normal', 'Weak', 'yes']]\n",
    "    return np.array(data)\n",
    "\n",
    "train_data = create_train_data()\n",
    "print(train_data)"
   ]
  },
  {
   "cell_type": "code",
   "execution_count": 33,
   "metadata": {},
   "outputs": [
    {
     "name": "stdout",
     "output_type": "stream",
     "text": [
      "P(play tennis = No) 0.4\n",
      "P(play tennis = Yes) 0.6\n"
     ]
    }
   ],
   "source": [
    "def compute_prior_probability(train_data):\n",
    "    y_unique = ['no', 'yes']\n",
    "    prior_probability = np.zeros(len(y_unique))\n",
    "    for i in range(len(y_unique)):\n",
    "        prior_probability[i] = len(np.where(train_data[:, 4] == y_unique[i])[0]) / len(train_data)\n",
    "    return prior_probability\n",
    "\n",
    "prior_probability = compute_prior_probability(train_data)\n",
    "print(\"P(play tennis = No)\", prior_probability[0])\n",
    "print(\"P(play tennis = Yes)\", prior_probability[1])"
   ]
  },
  {
   "cell_type": "code",
   "execution_count": 34,
   "metadata": {},
   "outputs": [],
   "source": [
    "def compute_conditional_probability(train_data):\n",
    "    y_unique = ['no', 'yes']\n",
    "    conditional_probability = []\n",
    "    list_x_name = []\n",
    "    for i in range(0, train_data.shape[1]-1):\n",
    "        x_unique = np.unique(train_data[:, i])\n",
    "        list_x_name.append(x_unique)\n",
    "        \n",
    "        x_conditional_probability = np.zeros((len(y_unique), len(x_unique)))\n",
    "        for j in range(len(y_unique)):\n",
    "            for k in range(len(x_unique)):\n",
    "                x_conditional_probability[j, k] = len(np.where((train_data[:, i] == x_unique[k]) & (train_data[:, 4] == y_unique[j]))[0]) / len(np.where(train_data[:, 4] == y_unique[j])[0])\n",
    "        conditional_probability.append(x_conditional_probability)\n",
    "    return conditional_probability, list_x_name\n",
    "\n",
    "conditional_probability, list_x_name = compute_conditional_probability(train_data)"
   ]
  },
  {
   "cell_type": "code",
   "execution_count": 35,
   "metadata": {},
   "outputs": [
    {
     "name": "stdout",
     "output_type": "stream",
     "text": [
      "x1 =  ['Overcast' 'Rain' 'Sunny']\n",
      "x2 =  ['Cool' 'Hot' 'Mild']\n",
      "x3 =  ['High' 'Normal']\n",
      "x4 =  ['Strong' 'Weak']\n"
     ]
    }
   ],
   "source": [
    "# 15\n",
    "train_data = create_train_data()\n",
    "_, list_x_name = compute_conditional_probability(train_data)\n",
    "print('x1 = ', list_x_name[0])\n",
    "print('x2 = ', list_x_name[1])\n",
    "print('x3 = ', list_x_name[2])\n",
    "print('x4 = ', list_x_name[3])"
   ]
  },
  {
   "cell_type": "code",
   "execution_count": 36,
   "metadata": {},
   "outputs": [],
   "source": [
    "def get_index_from_value(feature_name, list_features):\n",
    "    return np.where(list_features == feature_name)[0][0]"
   ]
  },
  {
   "cell_type": "code",
   "execution_count": 37,
   "metadata": {},
   "outputs": [
    {
     "name": "stdout",
     "output_type": "stream",
     "text": [
      "0 1 2\n"
     ]
    }
   ],
   "source": [
    "# 16\n",
    "train_data = create_train_data()\n",
    "_, list_x_name = compute_conditional_probability(train_data)\n",
    "outlook = list_x_name[0]\n",
    "\n",
    "i1 = get_index_from_value('Overcast', outlook)\n",
    "i2 = get_index_from_value('Rain', outlook)\n",
    "i3 = get_index_from_value('Sunny', outlook)\n",
    "\n",
    "print(i1, i2, i3)"
   ]
  },
  {
   "cell_type": "code",
   "execution_count": 38,
   "metadata": {},
   "outputs": [
    {
     "name": "stdout",
     "output_type": "stream",
     "text": [
      "P(Outlook = Sunny | Play Tennis = Yes) =  0.17\n"
     ]
    }
   ],
   "source": [
    "# 17\n",
    "train_data = create_train_data()\n",
    "conditional_probability, list_x_name = compute_conditional_probability(train_data)\n",
    "\n",
    "x1 = get_index_from_value('Sunny', list_x_name[0])\n",
    "print(\"P(Outlook = Sunny | Play Tennis = Yes) = \", np.round(conditional_probability[0][1, x1], 2))"
   ]
  },
  {
   "cell_type": "code",
   "execution_count": 40,
   "metadata": {},
   "outputs": [
    {
     "name": "stdout",
     "output_type": "stream",
     "text": [
      "P(Outlook = Sunny | Play Tennis = No) =  0.5\n"
     ]
    }
   ],
   "source": [
    "# 18\n",
    "train_data = create_train_data()\n",
    "conditional_probability, list_x_name = compute_conditional_probability(train_data)\n",
    "\n",
    "x1 = get_index_from_value('Sunny', list_x_name[0])\n",
    "print(\"P(Outlook = Sunny | Play Tennis = No) = \", np.round(conditional_probability[0][0, x1], 2))"
   ]
  },
  {
   "cell_type": "code",
   "execution_count": 41,
   "metadata": {},
   "outputs": [],
   "source": [
    "def train_naive_bayes(train_data):\n",
    "    prior_probability = compute_prior_probability(train_data)\n",
    "    conditional_probability, list_x_name = compute_conditional_probability(train_data)\n",
    "    return prior_probability, conditional_probability, list_x_name"
   ]
  },
  {
   "cell_type": "code",
   "execution_count": 42,
   "metadata": {},
   "outputs": [],
   "source": [
    "def prediction_play_tennis(X, list_x_name, prior_probability, conditional_probability):\n",
    "    x1 = get_index_from_value(X[0], list_x_name[0])\n",
    "    x2 = get_index_from_value(X[1], list_x_name[1])\n",
    "    x3 = get_index_from_value(X[2], list_x_name[2])\n",
    "    x4 = get_index_from_value(X[3], list_x_name[3])\n",
    "    \n",
    "    p0 = 0\n",
    "    p1 = 0\n",
    "    \n",
    "    p0 = prior_probability[0] * conditional_probability[0][0, x1] * conditional_probability[1][0, x2] * conditional_probability[2][0, x3] * conditional_probability[3][0, x4]\n",
    "    \n",
    "    p1 = prior_probability[1] * conditional_probability[0][1, x1] * conditional_probability[1][1, x2] * conditional_probability[2][1, x3] * conditional_probability[3][1, x4]\n",
    "    \n",
    "    if p0 > p1:\n",
    "        y_pred = 0\n",
    "    else:\n",
    "        y_pred = 1\n",
    "        \n",
    "    return y_pred"
   ]
  },
  {
   "cell_type": "code",
   "execution_count": 43,
   "metadata": {},
   "outputs": [
    {
     "name": "stdout",
     "output_type": "stream",
     "text": [
      "Ad should not go!\n"
     ]
    }
   ],
   "source": [
    "X = ['Sunny', 'Cool', 'High', 'Strong']\n",
    "data = create_train_data()\n",
    "prior_probability, conditional_probability, list_x_name = train_naive_bayes(data)\n",
    "pred = prediction_play_tennis(X, list_x_name, prior_probability, conditional_probability)\n",
    "\n",
    "if pred:\n",
    "    print('Ad should go!')\n",
    "else:\n",
    "    print('Ad should not go!')"
   ]
  }
 ],
 "metadata": {
  "language_info": {
   "name": "python"
  }
 },
 "nbformat": 4,
 "nbformat_minor": 2
}
